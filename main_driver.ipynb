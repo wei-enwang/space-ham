{
 "cells": [
  {
   "cell_type": "markdown",
   "metadata": {
    "colab_type": "text",
    "id": "view-in-github"
   },
   "source": [
    "<a href=\"https://colab.research.google.com/github/wei-enwang/space-ham/blob/main/main_driver.ipynb\" target=\"_parent\"><img src=\"https://colab.research.google.com/assets/colab-badge.svg\" alt=\"Open In Colab\"/></a>"
   ]
  },
  {
   "cell_type": "code",
   "execution_count": 1,
   "metadata": {
    "colab": {
     "base_uri": "https://localhost:8080/"
    },
    "id": "kjCdg-iXZDwP",
    "outputId": "4dd5b5da-3943-40f3-8e49-e387ba71352c"
   },
   "outputs": [
    {
     "name": "stderr",
     "output_type": "stream",
     "text": [
      "[nltk_data] Downloading package stopwords to\n",
      "[nltk_data]     /home/weinwang/nltk_data...\n",
      "[nltk_data]   Package stopwords is already up-to-date!\n"
     ]
    }
   ],
   "source": [
    "import numpy as np\n",
    "import nltk\n",
    "from nltk.corpus import words\n",
    "import torch\n",
    "import torch.nn as nn\n",
    "from torch.optim import Adam\n",
    "from torch.utils import data\n",
    "from preprocess import WholeData, BalancedData\n",
    "\n",
    "import models\n",
    "import utils"
   ]
  },
  {
   "cell_type": "code",
   "execution_count": 2,
   "metadata": {
    "colab": {
     "base_uri": "https://localhost:8080/"
    },
    "id": "vIrV_RW1ZPOx",
    "outputId": "2dbd80d2-f760-41fd-d29f-4c37f5746ece"
   },
   "outputs": [
    {
     "name": "stderr",
     "output_type": "stream",
     "text": [
      "[nltk_data] Downloading package words to /home/weinwang/nltk_data...\n",
      "[nltk_data]   Package words is already up-to-date!\n"
     ]
    }
   ],
   "source": [
    "nltk.download('words')\n",
    "\n",
    "device = \"cuda\" if torch.cuda.is_available() else \"cpu\"\n",
    "assert device == \"cuda\"   # use gpu whenever you can!\n",
    "\n",
    "seed = 32\n",
    "np.random.seed(seed)\n",
    "torch.manual_seed(seed)\n",
    "torch.cuda.manual_seed(seed)"
   ]
  },
  {
   "cell_type": "code",
   "execution_count": 3,
   "metadata": {
    "id": "GAV3D8KiZRjC"
   },
   "outputs": [],
   "source": [
    "plot_yes = True\n",
    "\n",
    "# use one dataset for now\n",
    "train_data_dir = \"./data/enron1/\"\n",
    "test_data_dir = \"./data/enron2/\"\n",
    "output_dir = \"./output/\"\n",
    "\n",
    "# hyperparameters\n",
    "batch_size = 64\n",
    "hidden_size = 128\n",
    "num_layer = 3\n",
    "dropout = 0.5\n",
    "learning_rate = 1e-4\n",
    "epochs = 10\n",
    "max_len = 50"
   ]
  },
  {
   "cell_type": "code",
   "execution_count": 4,
   "metadata": {
    "colab": {
     "base_uri": "https://localhost:8080/",
     "height": 381
    },
    "id": "Jx_x0qSRZUnN",
    "outputId": "58864b60-0aa3-4b73-8e79-8abaa7961c0f"
   },
   "outputs": [
    {
     "name": "stdout",
     "output_type": "stream",
     "text": [
      "Number of ham emails: 1500, spam emails: 1500\n",
      "Number of ham emails: 1496, spam emails: 1496\n",
      "Loading pretrained vectors...\n",
      "234378\n"
     ]
    },
    {
     "data": {
      "application/vnd.jupyter.widget-view+json": {
       "model_id": "35652c2a882d49bb840a3b6ef0afbf5e",
       "version_major": 2,
       "version_minor": 0
      },
      "text/plain": [
       "0it [00:00, ?it/s]"
      ]
     },
     "metadata": {},
     "output_type": "display_data"
    },
    {
     "name": "stdout",
     "output_type": "stream",
     "text": [
      "There are 75835 / 234379 pretrained vectors found.\n"
     ]
    }
   ],
   "source": [
    "vocab = set([str.lower() for str in words.words()])\n",
    "\n",
    "# train_dataset = WholeData(train_data_dir, src_vocab=vocab, use_max_len=True, max_len=max_len)\n",
    "# test_dataset = WholeData(test_data_dir, src_vocab=vocab, use_max_len=True, max_len=max_len)\n",
    "# Balanced dataset\n",
    "train_dataset = BalancedData(train_data_dir, src_vocab=vocab, use_max_len=True, max_len=max_len)\n",
    "test_dataset = BalancedData(test_data_dir, src_vocab=vocab, use_max_len=True, max_len=max_len)\n",
    "\n",
    "w2idx = train_dataset.src_v2id\n",
    "\n",
    "embed = utils.load_pretrained_vectors(w2idx, \"fastText/crawl-300d-2M.vec\")\n",
    "embed = torch.tensor(embed)"
   ]
  },
  {
   "cell_type": "code",
   "execution_count": 5,
   "metadata": {},
   "outputs": [],
   "source": [
    "train_dataloader = data.DataLoader(train_dataset, batch_size=batch_size, shuffle=True, \n",
    "                                   num_workers=8, pin_memory=True)\n",
    "test_dataloader = data.DataLoader(test_dataset, batch_size=batch_size, shuffle=True, \n",
    "                                  num_workers=8, pin_memory=True, drop_last=True)\n"
   ]
  },
  {
   "cell_type": "code",
   "execution_count": 6,
   "metadata": {
    "id": "02Yh5OkQZYnB"
   },
   "outputs": [
    {
     "name": "stdout",
     "output_type": "stream",
     "text": [
      "Using pretrained vectors...\n"
     ]
    }
   ],
   "source": [
    "model = models.spam_lstm(hidden_size=hidden_size, pretrained_embedding=embed, dropout=dropout).to(device)\n",
    "loss_fn = nn.BCEWithLogitsLoss().to(device)\n",
    "opt = Adam(model.parameters(), lr=learning_rate)"
   ]
  },
  {
   "cell_type": "code",
   "execution_count": 7,
   "metadata": {
    "id": "MM1a0IiQZbb5"
   },
   "outputs": [
    {
     "name": "stderr",
     "output_type": "stream",
     "text": [
      " 10%|█         | 1/10 [00:03<00:32,  3.61s/it]"
     ]
    },
    {
     "name": "stdout",
     "output_type": "stream",
     "text": [
      "Epoch 0\n",
      "-------------------------------\n",
      "Training loss: 0.693152, avg accuracy: 0.500237\n",
      "Testing loss: 0.692380, avg accuracy: 0.500000\n"
     ]
    },
    {
     "name": "stderr",
     "output_type": "stream",
     "text": [
      "\r",
      " 20%|██        | 2/10 [00:07<00:28,  3.61s/it]"
     ]
    },
    {
     "name": "stdout",
     "output_type": "stream",
     "text": [
      "Epoch 1\n",
      "-------------------------------\n",
      "Training loss: 0.689316, avg accuracy: 0.500142\n",
      "Testing loss: 0.682506, avg accuracy: 0.500679\n"
     ]
    },
    {
     "name": "stderr",
     "output_type": "stream",
     "text": [
      "\r",
      " 30%|███       | 3/10 [00:10<00:25,  3.61s/it]"
     ]
    },
    {
     "name": "stdout",
     "output_type": "stream",
     "text": [
      "Epoch 2\n",
      "-------------------------------\n",
      "Training loss: 0.509741, avg accuracy: 0.660049\n",
      "Testing loss: 0.389208, avg accuracy: 0.867527\n"
     ]
    },
    {
     "name": "stderr",
     "output_type": "stream",
     "text": [
      "\r",
      " 40%|████      | 4/10 [00:14<00:21,  3.60s/it]"
     ]
    },
    {
     "name": "stdout",
     "output_type": "stream",
     "text": [
      "Epoch 3\n",
      "-------------------------------\n",
      "Training loss: 0.194749, avg accuracy: 0.944766\n",
      "Testing loss: 0.375509, avg accuracy: 0.861753\n"
     ]
    },
    {
     "name": "stderr",
     "output_type": "stream",
     "text": [
      "\r",
      " 50%|█████     | 5/10 [00:18<00:17,  3.60s/it]"
     ]
    },
    {
     "name": "stdout",
     "output_type": "stream",
     "text": [
      "Epoch 4\n",
      "-------------------------------\n",
      "Training loss: 0.139152, avg accuracy: 0.963858\n",
      "Testing loss: 0.397842, avg accuracy: 0.867527\n"
     ]
    },
    {
     "name": "stderr",
     "output_type": "stream",
     "text": [
      "\r",
      " 60%|██████    | 6/10 [00:21<00:14,  3.59s/it]"
     ]
    },
    {
     "name": "stdout",
     "output_type": "stream",
     "text": [
      "Epoch 5\n",
      "-------------------------------\n",
      "Training loss: 0.124875, avg accuracy: 0.966423\n",
      "Testing loss: 0.383876, avg accuracy: 0.874660\n"
     ]
    },
    {
     "name": "stderr",
     "output_type": "stream",
     "text": [
      "\r",
      " 70%|███████   | 7/10 [00:25<00:10,  3.58s/it]"
     ]
    },
    {
     "name": "stdout",
     "output_type": "stream",
     "text": [
      "Epoch 6\n",
      "-------------------------------\n",
      "Training loss: 0.103914, avg accuracy: 0.974972\n",
      "Testing loss: 0.330794, avg accuracy: 0.895720\n"
     ]
    },
    {
     "name": "stderr",
     "output_type": "stream",
     "text": [
      "\r",
      " 80%|████████  | 8/10 [00:28<00:07,  3.59s/it]"
     ]
    },
    {
     "name": "stdout",
     "output_type": "stream",
     "text": [
      "Epoch 7\n",
      "-------------------------------\n",
      "Training loss: 0.100114, avg accuracy: 0.976064\n",
      "Testing loss: 0.347972, avg accuracy: 0.895380\n"
     ]
    },
    {
     "name": "stderr",
     "output_type": "stream",
     "text": [
      "\r",
      " 90%|█████████ | 9/10 [00:32<00:03,  3.59s/it]"
     ]
    },
    {
     "name": "stdout",
     "output_type": "stream",
     "text": [
      "Epoch 8\n",
      "-------------------------------\n",
      "Training loss: 0.093136, avg accuracy: 0.977536\n",
      "Testing loss: 0.359068, avg accuracy: 0.896060\n"
     ]
    },
    {
     "name": "stderr",
     "output_type": "stream",
     "text": [
      "100%|██████████| 10/10 [00:35<00:00,  3.59s/it]"
     ]
    },
    {
     "name": "stdout",
     "output_type": "stream",
     "text": [
      "Epoch 9\n",
      "-------------------------------\n",
      "Training loss: 0.086583, avg accuracy: 0.979056\n",
      "Testing loss: 0.326670, avg accuracy: 0.904891\n"
     ]
    },
    {
     "name": "stderr",
     "output_type": "stream",
     "text": [
      "\n"
     ]
    },
    {
     "name": "stdout",
     "output_type": "stream",
     "text": [
      "Final testing loss: 0.321700, testing accuracy: 0.905910\n",
      "F1 score: 0.902841 Precision: 0.934641, Recall: 0.873134\n"
     ]
    },
    {
     "data": {
      "text/plain": [
       "(0.08658300950489145, 0.32169952535110974)"
      ]
     },
     "execution_count": 7,
     "metadata": {},
     "output_type": "execute_result"
    },
    {
     "data": {
      "image/png": "[encoded data removed]",
      "text/plain": [
       "<Figure size 432x288 with 1 Axes>"
      ]
     },
     "metadata": {},
     "output_type": "display_data"
    },
    {
     "data": {
      "image/png": "[encoded data removed]",
      "text/plain": [
       "<Figure size 432x288 with 1 Axes>"
      ]
     },
     "metadata": {},
     "output_type": "display_data"
    }
   ],
   "source": [
    "utils.train_test_scheme(train_dataloader, test_dataloader, model, loss_fn, opt, \n",
    "                        task_name=\"balancew2v+lstm80hid128\", epochs=epochs, \n",
    "                        vis=plot_yes, print_every=1, img_dir=output_dir)\n",
    "\n"
   ]
  },
  {
   "cell_type": "code",
   "execution_count": 8,
   "metadata": {
    "id": "MRKEnXMwZbj5"
   },
   "outputs": [],
   "source": [
    "torch.save(model.state_dict(), output_dir+\"balancew2v_lstm80hid128.pt\")"
   ]
  },
  {
   "cell_type": "code",
   "execution_count": null,
   "metadata": {},
   "outputs": [],
   "source": []
  }
 ],
 "metadata": {
  "accelerator": "GPU",
  "colab": {
   "authorship_tag": "ABX9TyMSShHoZHgFnok0mGefVUMx",
   "include_colab_link": true,
   "name": "main_driver.ipynb",
   "provenance": []
  },
  "kernelspec": {
   "display_name": "Python 3",
   "language": "python",
   "name": "python3"
  },
  "language_info": {
   "codemirror_mode": {
    "name": "ipython",
    "version": 3
   },
   "file_extension": ".py",
   "mimetype": "text/x-python",
   "name": "python",
   "nbconvert_exporter": "python",
   "pygments_lexer": "ipython3",
   "version": "3.6.13"
  }
 },
 "nbformat": 4,
 "nbformat_minor": 1
}
