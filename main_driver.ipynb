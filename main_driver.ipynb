{
 "cells": [
  {
   "cell_type": "markdown",
   "metadata": {
    "colab_type": "text",
    "id": "view-in-github"
   },
   "source": [
    "<a href=\"https://colab.research.google.com/github/wei-enwang/space-ham/blob/main/main_driver.ipynb\" target=\"_parent\"><img src=\"https://colab.research.google.com/assets/colab-badge.svg\" alt=\"Open In Colab\"/></a>"
   ]
  },
  {
   "cell_type": "code",
   "execution_count": 1,
   "metadata": {
    "colab": {
     "base_uri": "https://localhost:8080/"
    },
    "id": "kjCdg-iXZDwP",
    "outputId": "4dd5b5da-3943-40f3-8e49-e387ba71352c"
   },
   "outputs": [
    {
     "name": "stderr",
     "output_type": "stream",
     "text": [
      "[nltk_data] Downloading package stopwords to\n",
      "[nltk_data]     /home/weinwang/nltk_data...\n",
      "[nltk_data]   Package stopwords is already up-to-date!\n"
     ]
    }
   ],
   "source": [
    "import numpy as np\n",
    "import nltk\n",
    "from nltk.corpus import words\n",
    "import torch\n",
    "import torch.nn as nn\n",
    "from torch.optim import Adam\n",
    "from torch.utils import data\n",
    "from preprocess import WholeData, BalancedData\n",
    "\n",
    "import models\n",
    "import utils"
   ]
  },
  {
   "cell_type": "code",
   "execution_count": 2,
   "metadata": {
    "colab": {
     "base_uri": "https://localhost:8080/"
    },
    "id": "vIrV_RW1ZPOx",
    "outputId": "2dbd80d2-f760-41fd-d29f-4c37f5746ece"
   },
   "outputs": [
    {
     "name": "stderr",
     "output_type": "stream",
     "text": [
      "[nltk_data] Downloading package words to /home/weinwang/nltk_data...\n",
      "[nltk_data]   Package words is already up-to-date!\n"
     ]
    }
   ],
   "source": [
    "nltk.download('words')\n",
    "\n",
    "device = \"cuda\" if torch.cuda.is_available() else \"cpu\"\n",
    "assert device == \"cuda\"   # use gpu whenever you can!\n",
    "\n",
    "seed = 32\n",
    "np.random.seed(seed)\n",
    "torch.manual_seed(seed)\n",
    "torch.cuda.manual_seed(seed)"
   ]
  },
  {
   "cell_type": "code",
   "execution_count": 19,
   "metadata": {
    "id": "GAV3D8KiZRjC"
   },
   "outputs": [],
   "source": [
    "plot_yes = True\n",
    "\n",
    "# use one dataset for now\n",
    "train_data_dir = \"./data/enron1/\"\n",
    "test_data_dir = \"./data/enron2/\"\n",
    "output_dir = \"./output/\"\n",
    "\n",
    "# hyperparameters\n",
    "batch_size = 32\n",
    "hidden_size = 128\n",
    "num_layer = 3\n",
    "dropout = 0.5\n",
    "learning_rate = 1e-4\n",
    "epochs = 30\n",
    "max_len = 100"
   ]
  },
  {
   "cell_type": "code",
   "execution_count": 20,
   "metadata": {
    "colab": {
     "base_uri": "https://localhost:8080/",
     "height": 381
    },
    "id": "Jx_x0qSRZUnN",
    "outputId": "58864b60-0aa3-4b73-8e79-8abaa7961c0f"
   },
   "outputs": [
    {
     "name": "stdout",
     "output_type": "stream",
     "text": [
      "Number of ham emails: 1500, spam emails: 1500\n",
      "Number of ham emails: 1496, spam emails: 1496\n",
      "Loading pretrained vectors...\n",
      "234378\n"
     ]
    },
    {
     "data": {
      "application/vnd.jupyter.widget-view+json": {
       "model_id": "7c45c2651f954623ae3875d400f9e385",
       "version_major": 2,
       "version_minor": 0
      },
      "text/plain": [
       "0it [00:00, ?it/s]"
      ]
     },
     "metadata": {},
     "output_type": "display_data"
    },
    {
     "name": "stdout",
     "output_type": "stream",
     "text": [
      "There are 75835 / 234379 pretrained vectors found.\n"
     ]
    }
   ],
   "source": [
    "vocab = set([str.lower() for str in words.words()])\n",
    "\n",
    "# train_dataset = WholeData(train_data_dir, src_vocab=vocab, use_max_len=True, max_len=max_len)\n",
    "# test_dataset = WholeData(test_data_dir, src_vocab=vocab, use_max_len=True, max_len=max_len)\n",
    "# Balanced dataset\n",
    "train_dataset = BalancedData(train_data_dir, src_vocab=vocab, use_max_len=True, max_len=max_len)\n",
    "test_dataset = BalancedData(test_data_dir, src_vocab=vocab, use_max_len=True, max_len=max_len)\n",
    "\n",
    "w2idx = train_dataset.src_v2id\n",
    "\n",
    "embed = utils.load_pretrained_vectors(w2idx, \"fastText/crawl-300d-2M.vec\")\n",
    "embed = torch.tensor(embed)"
   ]
  },
  {
   "cell_type": "code",
   "execution_count": 21,
   "metadata": {},
   "outputs": [],
   "source": [
    "train_dataloader = data.DataLoader(train_dataset, batch_size=batch_size, shuffle=True, \n",
    "                                   num_workers=8, pin_memory=True)\n",
    "test_dataloader = data.DataLoader(test_dataset, batch_size=batch_size, shuffle=True, \n",
    "                                  num_workers=8, pin_memory=True, drop_last=True)\n"
   ]
  },
  {
   "cell_type": "code",
   "execution_count": 22,
   "metadata": {
    "id": "02Yh5OkQZYnB"
   },
   "outputs": [
    {
     "name": "stdout",
     "output_type": "stream",
     "text": [
      "Using pretrained vectors...\n"
     ]
    }
   ],
   "source": [
    "model = models.spam_lstm(hidden_size=hidden_size, pretrained_embedding=embed, dropout=dropout).to(device)\n",
    "loss_fn = nn.BCEWithLogitsLoss().to(device)\n",
    "opt = Adam(model.parameters(), lr=learning_rate)"
   ]
  },
  {
   "cell_type": "code",
   "execution_count": 23,
   "metadata": {
    "id": "MM1a0IiQZbb5"
   },
   "outputs": [
    {
     "name": "stderr",
     "output_type": "stream",
     "text": [
      "  3%|▎         | 1/30 [00:07<03:30,  7.26s/it]"
     ]
    },
    {
     "name": "stdout",
     "output_type": "stream",
     "text": [
      "Epoch 0\n",
      "-------------------------------\n",
      "Training loss: 0.693054, avg accuracy: 0.500997\n",
      "Testing loss: 0.693071, avg accuracy: 0.511089\n"
     ]
    },
    {
     "name": "stderr",
     "output_type": "stream",
     "text": [
      "\r",
      "  7%|▋         | 2/30 [00:14<03:23,  7.25s/it]"
     ]
    },
    {
     "name": "stdout",
     "output_type": "stream",
     "text": [
      "Epoch 1\n",
      "-------------------------------\n",
      "Training loss: 0.685536, avg accuracy: 0.564162\n",
      "Testing loss: 0.663595, avg accuracy: 0.556116\n"
     ]
    },
    {
     "name": "stderr",
     "output_type": "stream",
     "text": [
      "\r",
      " 10%|█         | 3/30 [00:21<03:15,  7.26s/it]"
     ]
    },
    {
     "name": "stdout",
     "output_type": "stream",
     "text": [
      "Epoch 2\n",
      "-------------------------------\n",
      "Training loss: 0.414579, avg accuracy: 0.841755\n",
      "Testing loss: 0.432848, avg accuracy: 0.833333\n"
     ]
    },
    {
     "name": "stderr",
     "output_type": "stream",
     "text": [
      "\r",
      " 13%|█▎        | 4/30 [00:29<03:08,  7.25s/it]"
     ]
    },
    {
     "name": "stdout",
     "output_type": "stream",
     "text": [
      "Epoch 3\n",
      "-------------------------------\n",
      "Training loss: 0.284611, avg accuracy: 0.916556\n",
      "Testing loss: 0.395961, avg accuracy: 0.870632\n"
     ]
    },
    {
     "name": "stderr",
     "output_type": "stream",
     "text": [
      "\r",
      " 17%|█▋        | 5/30 [00:36<03:01,  7.26s/it]"
     ]
    },
    {
     "name": "stdout",
     "output_type": "stream",
     "text": [
      "Epoch 4\n",
      "-------------------------------\n",
      "Training loss: 0.287302, avg accuracy: 0.905807\n",
      "Testing loss: 0.392570, avg accuracy: 0.870296\n"
     ]
    },
    {
     "name": "stderr",
     "output_type": "stream",
     "text": [
      "\r",
      " 20%|██        | 6/30 [00:43<02:54,  7.26s/it]"
     ]
    },
    {
     "name": "stdout",
     "output_type": "stream",
     "text": [
      "Epoch 5\n",
      "-------------------------------\n",
      "Training loss: 0.225169, avg accuracy: 0.935949\n",
      "Testing loss: 0.423741, avg accuracy: 0.868280\n"
     ]
    },
    {
     "name": "stderr",
     "output_type": "stream",
     "text": [
      "\r",
      " 23%|██▎       | 7/30 [00:50<02:46,  7.25s/it]"
     ]
    },
    {
     "name": "stdout",
     "output_type": "stream",
     "text": [
      "Epoch 6\n",
      "-------------------------------\n",
      "Training loss: 0.202477, avg accuracy: 0.938054\n",
      "Testing loss: 0.440705, avg accuracy: 0.850470\n"
     ]
    },
    {
     "name": "stderr",
     "output_type": "stream",
     "text": [
      "\r",
      " 27%|██▋       | 8/30 [00:58<02:39,  7.26s/it]"
     ]
    },
    {
     "name": "stdout",
     "output_type": "stream",
     "text": [
      "Epoch 7\n",
      "-------------------------------\n",
      "Training loss: 0.158060, avg accuracy: 0.954233\n",
      "Testing loss: 0.454264, avg accuracy: 0.866935\n"
     ]
    },
    {
     "name": "stderr",
     "output_type": "stream",
     "text": [
      "\r",
      " 30%|███       | 9/30 [01:05<02:32,  7.27s/it]"
     ]
    },
    {
     "name": "stdout",
     "output_type": "stream",
     "text": [
      "Epoch 8\n",
      "-------------------------------\n",
      "Training loss: 0.149711, avg accuracy: 0.950798\n",
      "Testing loss: 0.491684, avg accuracy: 0.849462\n"
     ]
    },
    {
     "name": "stderr",
     "output_type": "stream",
     "text": [
      "\r",
      " 33%|███▎      | 10/30 [01:12<02:25,  7.26s/it]"
     ]
    },
    {
     "name": "stdout",
     "output_type": "stream",
     "text": [
      "Epoch 9\n",
      "-------------------------------\n",
      "Training loss: 0.147506, avg accuracy: 0.957004\n",
      "Testing loss: 0.484212, avg accuracy: 0.867944\n"
     ]
    },
    {
     "name": "stderr",
     "output_type": "stream",
     "text": [
      "\r",
      " 37%|███▋      | 11/30 [01:19<02:18,  7.27s/it]"
     ]
    },
    {
     "name": "stdout",
     "output_type": "stream",
     "text": [
      "Epoch 10\n",
      "-------------------------------\n",
      "Training loss: 0.159618, avg accuracy: 0.940492\n",
      "Testing loss: 0.373774, avg accuracy: 0.884073\n"
     ]
    },
    {
     "name": "stderr",
     "output_type": "stream",
     "text": [
      "\r",
      " 40%|████      | 12/30 [01:27<02:10,  7.27s/it]"
     ]
    },
    {
     "name": "stdout",
     "output_type": "stream",
     "text": [
      "Epoch 11\n",
      "-------------------------------\n",
      "Training loss: 0.109675, avg accuracy: 0.972074\n",
      "Testing loss: 0.459977, avg accuracy: 0.869960\n"
     ]
    },
    {
     "name": "stderr",
     "output_type": "stream",
     "text": [
      "\r",
      " 43%|████▎     | 13/30 [01:34<02:03,  7.27s/it]"
     ]
    },
    {
     "name": "stdout",
     "output_type": "stream",
     "text": [
      "Epoch 12\n",
      "-------------------------------\n",
      "Training loss: 0.098302, avg accuracy: 0.971410\n",
      "Testing loss: 0.426129, avg accuracy: 0.874664\n"
     ]
    },
    {
     "name": "stderr",
     "output_type": "stream",
     "text": [
      "\r",
      " 47%|████▋     | 14/30 [01:41<01:56,  7.26s/it]"
     ]
    },
    {
     "name": "stdout",
     "output_type": "stream",
     "text": [
      "Epoch 13\n",
      "-------------------------------\n",
      "Training loss: 0.087097, avg accuracy: 0.977061\n",
      "Testing loss: 0.437741, avg accuracy: 0.878024\n"
     ]
    },
    {
     "name": "stderr",
     "output_type": "stream",
     "text": [
      "\r",
      " 50%|█████     | 15/30 [01:48<01:49,  7.27s/it]"
     ]
    },
    {
     "name": "stdout",
     "output_type": "stream",
     "text": [
      "Epoch 14\n",
      "-------------------------------\n",
      "Training loss: 0.091899, avg accuracy: 0.972407\n",
      "Testing loss: 0.442680, avg accuracy: 0.883401\n"
     ]
    },
    {
     "name": "stderr",
     "output_type": "stream",
     "text": [
      "\r",
      " 53%|█████▎    | 16/30 [01:56<01:41,  7.28s/it]"
     ]
    },
    {
     "name": "stdout",
     "output_type": "stream",
     "text": [
      "Epoch 15\n",
      "-------------------------------\n",
      "Training loss: 0.177509, avg accuracy: 0.925864\n",
      "Testing loss: 0.369852, avg accuracy: 0.877016\n"
     ]
    },
    {
     "name": "stderr",
     "output_type": "stream",
     "text": [
      "\r",
      " 57%|█████▋    | 17/30 [02:03<01:34,  7.29s/it]"
     ]
    },
    {
     "name": "stdout",
     "output_type": "stream",
     "text": [
      "Epoch 16\n",
      "-------------------------------\n",
      "Training loss: 0.094384, avg accuracy: 0.975066\n",
      "Testing loss: 0.379389, avg accuracy: 0.890457\n"
     ]
    },
    {
     "name": "stderr",
     "output_type": "stream",
     "text": [
      "\r",
      " 60%|██████    | 18/30 [02:10<01:27,  7.28s/it]"
     ]
    },
    {
     "name": "stdout",
     "output_type": "stream",
     "text": [
      "Epoch 17\n",
      "-------------------------------\n",
      "Training loss: 0.083721, avg accuracy: 0.977948\n",
      "Testing loss: 0.376289, avg accuracy: 0.862567\n"
     ]
    },
    {
     "name": "stderr",
     "output_type": "stream",
     "text": [
      "\r",
      " 63%|██████▎   | 19/30 [02:18<01:20,  7.28s/it]"
     ]
    },
    {
     "name": "stdout",
     "output_type": "stream",
     "text": [
      "Epoch 18\n",
      "-------------------------------\n",
      "Training loss: 0.073948, avg accuracy: 0.980386\n",
      "Testing loss: 0.356659, avg accuracy: 0.892473\n"
     ]
    },
    {
     "name": "stderr",
     "output_type": "stream",
     "text": [
      "\r",
      " 67%|██████▋   | 20/30 [02:25<01:12,  7.28s/it]"
     ]
    },
    {
     "name": "stdout",
     "output_type": "stream",
     "text": [
      "Epoch 19\n",
      "-------------------------------\n",
      "Training loss: 0.066570, avg accuracy: 0.984264\n",
      "Testing loss: 0.451870, avg accuracy: 0.857527\n"
     ]
    },
    {
     "name": "stderr",
     "output_type": "stream",
     "text": [
      "\r",
      " 70%|███████   | 21/30 [02:32<01:05,  7.28s/it]"
     ]
    },
    {
     "name": "stdout",
     "output_type": "stream",
     "text": [
      "Epoch 20\n",
      "-------------------------------\n",
      "Training loss: 0.074455, avg accuracy: 0.979721\n",
      "Testing loss: 0.434212, avg accuracy: 0.868280\n"
     ]
    },
    {
     "name": "stderr",
     "output_type": "stream",
     "text": [
      "\r",
      " 73%|███████▎  | 22/30 [02:39<00:58,  7.28s/it]"
     ]
    },
    {
     "name": "stdout",
     "output_type": "stream",
     "text": [
      "Epoch 21\n",
      "-------------------------------\n",
      "Training loss: 0.058093, avg accuracy: 0.985040\n",
      "Testing loss: 0.386296, avg accuracy: 0.894825\n"
     ]
    },
    {
     "name": "stderr",
     "output_type": "stream",
     "text": [
      "\r",
      " 77%|███████▋  | 23/30 [02:47<00:50,  7.28s/it]"
     ]
    },
    {
     "name": "stdout",
     "output_type": "stream",
     "text": [
      "Epoch 22\n",
      "-------------------------------\n",
      "Training loss: 0.045135, avg accuracy: 0.989916\n",
      "Testing loss: 0.418860, avg accuracy: 0.893481\n"
     ]
    },
    {
     "name": "stderr",
     "output_type": "stream",
     "text": [
      "\r",
      " 80%|████████  | 24/30 [02:54<00:43,  7.28s/it]"
     ]
    },
    {
     "name": "stdout",
     "output_type": "stream",
     "text": [
      "Epoch 23\n",
      "-------------------------------\n",
      "Training loss: 0.043508, avg accuracy: 0.990691\n",
      "Testing loss: 0.455409, avg accuracy: 0.891801\n"
     ]
    },
    {
     "name": "stderr",
     "output_type": "stream",
     "text": [
      "\r",
      " 83%|████████▎ | 25/30 [03:01<00:36,  7.28s/it]"
     ]
    },
    {
     "name": "stdout",
     "output_type": "stream",
     "text": [
      "Epoch 24\n",
      "-------------------------------\n",
      "Training loss: 0.042624, avg accuracy: 0.991356\n",
      "Testing loss: 0.432908, avg accuracy: 0.891465\n"
     ]
    },
    {
     "name": "stderr",
     "output_type": "stream",
     "text": [
      "\r",
      " 87%|████████▋ | 26/30 [03:09<00:29,  7.28s/it]"
     ]
    },
    {
     "name": "stdout",
     "output_type": "stream",
     "text": [
      "Epoch 25\n",
      "-------------------------------\n",
      "Training loss: 0.057935, avg accuracy: 0.984707\n",
      "Testing loss: 0.386323, avg accuracy: 0.891465\n"
     ]
    },
    {
     "name": "stderr",
     "output_type": "stream",
     "text": [
      "\r",
      " 90%|█████████ | 27/30 [03:16<00:21,  7.27s/it]"
     ]
    },
    {
     "name": "stdout",
     "output_type": "stream",
     "text": [
      "Epoch 26\n",
      "-------------------------------\n",
      "Training loss: 0.036903, avg accuracy: 0.993019\n",
      "Testing loss: 0.409990, avg accuracy: 0.898522\n"
     ]
    },
    {
     "name": "stderr",
     "output_type": "stream",
     "text": [
      "\r",
      " 93%|█████████▎| 28/30 [03:23<00:14,  7.28s/it]"
     ]
    },
    {
     "name": "stdout",
     "output_type": "stream",
     "text": [
      "Epoch 27\n",
      "-------------------------------\n",
      "Training loss: 0.035595, avg accuracy: 0.993240\n",
      "Testing loss: 0.413017, avg accuracy: 0.897849\n"
     ]
    },
    {
     "name": "stderr",
     "output_type": "stream",
     "text": [
      "\r",
      " 97%|█████████▋| 29/30 [03:30<00:07,  7.27s/it]"
     ]
    },
    {
     "name": "stdout",
     "output_type": "stream",
     "text": [
      "Epoch 28\n",
      "-------------------------------\n",
      "Training loss: 0.039185, avg accuracy: 0.991578\n",
      "Testing loss: 0.509289, avg accuracy: 0.877688\n"
     ]
    },
    {
     "name": "stderr",
     "output_type": "stream",
     "text": [
      "100%|██████████| 30/30 [03:38<00:00,  7.27s/it]"
     ]
    },
    {
     "name": "stdout",
     "output_type": "stream",
     "text": [
      "Epoch 29\n",
      "-------------------------------\n",
      "Training loss: 0.033138, avg accuracy: 0.993019\n",
      "Testing loss: 0.495292, avg accuracy: 0.881384\n"
     ]
    },
    {
     "name": "stderr",
     "output_type": "stream",
     "text": [
      "\n"
     ]
    },
    {
     "name": "stdout",
     "output_type": "stream",
     "text": [
      "Final testing loss: 0.496250, testing accuracy: 0.881048\n",
      "F1 score: 0.874912 Precision: 0.923881, Recall: 0.830872\n"
     ]
    },
    {
     "data": {
      "text/plain": [
       "(0.033138364905174425, 0.4962502964321644)"
      ]
     },
     "execution_count": 23,
     "metadata": {},
     "output_type": "execute_result"
    },
    {
     "data": {
      "image/png": "[encoded data removed]",
      "text/plain": [
       "<Figure size 432x288 with 1 Axes>"
      ]
     },
     "metadata": {},
     "output_type": "display_data"
    },
    {
     "data": {
      "image/png": "[encoded data removed]",
      "text/plain": [
       "<Figure size 432x288 with 1 Axes>"
      ]
     },
     "metadata": {},
     "output_type": "display_data"
    }
   ],
   "source": [
    "utils.train_test_scheme(train_dataloader, test_dataloader, model, loss_fn, opt, \n",
    "                        task_name=\"balancew2v+lstm100batch32\", epochs=epochs, \n",
    "                        vis=plot_yes, print_every=1, img_dir=output_dir)\n",
    "\n"
   ]
  },
  {
   "cell_type": "code",
   "execution_count": 24,
   "metadata": {
    "id": "MRKEnXMwZbj5"
   },
   "outputs": [],
   "source": [
    "torch.save(model.state_dict(), output_dir+\"balancew2v_lstm100batch32.pt\")"
   ]
  },
  {
   "cell_type": "code",
   "execution_count": 28,
   "metadata": {},
   "outputs": [],
   "source": [
    "test_message = \"Subject: Look, I understand everything, but this is a frank bust... Look here and tell me your opinion\""
   ]
  },
  {
   "cell_type": "code",
   "execution_count": 29,
   "metadata": {},
   "outputs": [],
   "source": [
    "from preprocess import clean_string\n",
    "context = clean_string(test_message)\n",
    "sent_id = [0 for _ in range(max_len)]\n",
    "for i, w in enumerate(context):\n",
    "    if i >= max_len:\n",
    "        break\n",
    "    if w not in train_dataset.vocab:\n",
    "        w = '<unk>'\n",
    "    sent_id[i] = train_dataset.src_v2id[w]\n",
    "sent_id = torch.unsqueeze(torch.tensor(sent_id),dim=0).to(device)"
   ]
  },
  {
   "cell_type": "code",
   "execution_count": 30,
   "metadata": {},
   "outputs": [
    {
     "name": "stdout",
     "output_type": "stream",
     "text": [
      "Email message: \"Subject: Look, I understand everything, but this is a frank bust... Look here and tell me your opinion\"\n",
      "This is a spam email message.\n",
      "The probability of this email being a spam is 97.6%.\n"
     ]
    }
   ],
   "source": [
    "model.eval()\n",
    "print(f\"Email message: \\\"{test_message}\\\"\")\n",
    "with torch.no_grad():\n",
    "    pred = nn.Sigmoid()(model(sent_id))\n",
    "    pred = torch.squeeze(pred)\n",
    "\n",
    "    if pred > 0.5:\n",
    "        print(\"This is a ham email message.\")\n",
    "    else:\n",
    "        print(\"This is a spam email message.\")\n",
    "\n",
    "print(f\"The probability of this email being a spam is {(1-pred)*100:.1f}%.\")"
   ]
  },
  {
   "cell_type": "code",
   "execution_count": null,
   "metadata": {},
   "outputs": [],
   "source": []
  }
 ],
 "metadata": {
  "accelerator": "GPU",
  "colab": {
   "authorship_tag": "ABX9TyMSShHoZHgFnok0mGefVUMx",
   "include_colab_link": true,
   "name": "main_driver.ipynb",
   "provenance": []
  },
  "kernelspec": {
   "display_name": "Python 3",
   "language": "python",
   "name": "python3"
  },
  "language_info": {
   "codemirror_mode": {
    "name": "ipython",
    "version": 3
   },
   "file_extension": ".py",
   "mimetype": "text/x-python",
   "name": "python",
   "nbconvert_exporter": "python",
   "pygments_lexer": "ipython3",
   "version": "3.6.13"
  }
 },
 "nbformat": 4,
 "nbformat_minor": 1
}
