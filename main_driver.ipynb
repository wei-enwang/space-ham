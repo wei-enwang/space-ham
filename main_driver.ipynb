{
 "cells": [
  {
   "cell_type": "markdown",
   "metadata": {
    "colab_type": "text",
    "id": "view-in-github"
   },
   "source": [
    "<a href=\"https://colab.research.google.com/github/wei-enwang/space-ham/blob/main/main_driver.ipynb\" target=\"_parent\"><img src=\"https://colab.research.google.com/assets/colab-badge.svg\" alt=\"Open In Colab\"/></a>"
   ]
  },
  {
   "cell_type": "code",
   "execution_count": 1,
   "metadata": {
    "colab": {
     "base_uri": "https://localhost:8080/"
    },
    "id": "kjCdg-iXZDwP",
    "outputId": "4dd5b5da-3943-40f3-8e49-e387ba71352c"
   },
   "outputs": [
    {
     "name": "stderr",
     "output_type": "stream",
     "text": [
      "[nltk_data] Downloading package stopwords to\n",
      "[nltk_data]     /home/weinwang/nltk_data...\n",
      "[nltk_data]   Package stopwords is already up-to-date!\n"
     ]
    }
   ],
   "source": [
    "import numpy as np\n",
    "import nltk\n",
    "from nltk.corpus import words\n",
    "import torch\n",
    "import torch.nn as nn\n",
    "from torch.optim import Adam\n",
    "from torch.utils import data\n",
    "from preprocess import WholeData, BalancedData\n",
    "\n",
    "import models\n",
    "import utils"
   ]
  },
  {
   "cell_type": "code",
   "execution_count": 2,
   "metadata": {
    "colab": {
     "base_uri": "https://localhost:8080/"
    },
    "id": "vIrV_RW1ZPOx",
    "outputId": "2dbd80d2-f760-41fd-d29f-4c37f5746ece"
   },
   "outputs": [
    {
     "name": "stderr",
     "output_type": "stream",
     "text": [
      "[nltk_data] Downloading package words to /home/weinwang/nltk_data...\n",
      "[nltk_data]   Package words is already up-to-date!\n"
     ]
    }
   ],
   "source": [
    "nltk.download('words')\n",
    "\n",
    "device = \"cuda\" if torch.cuda.is_available() else \"cpu\"\n",
    "assert device == \"cuda\"   # use gpu whenever you can!\n",
    "\n",
    "seed = 32\n",
    "np.random.seed(seed)\n",
    "torch.manual_seed(seed)\n",
    "torch.cuda.manual_seed(seed)"
   ]
  },
  {
   "cell_type": "code",
   "execution_count": 16,
   "metadata": {
    "id": "GAV3D8KiZRjC"
   },
   "outputs": [],
   "source": [
    "plot_yes = True\n",
    "\n",
    "# use one dataset for now\n",
    "train_data_dir = \"./data/enron1/\"\n",
    "test_data_dir = \"./data/enron2/\"\n",
    "output_dir = \"./output/\"\n",
    "\n",
    "# hyperparameters\n",
    "batch_size = 64\n",
    "hidden_size = 512\n",
    "num_layer = 3\n",
    "dropout = 0.5\n",
    "learning_rate = 1e-4\n",
    "epochs = 30\n",
    "max_len = 80"
   ]
  },
  {
   "cell_type": "code",
   "execution_count": 4,
   "metadata": {
    "colab": {
     "base_uri": "https://localhost:8080/",
     "height": 381
    },
    "id": "Jx_x0qSRZUnN",
    "outputId": "58864b60-0aa3-4b73-8e79-8abaa7961c0f"
   },
   "outputs": [
    {
     "name": "stdout",
     "output_type": "stream",
     "text": [
      "Number of ham emails: 1500, spam emails: 1500\n",
      "Number of ham emails: 1496, spam emails: 1496\n",
      "Loading pretrained vectors...\n",
      "234378\n"
     ]
    },
    {
     "data": {
      "application/vnd.jupyter.widget-view+json": {
       "model_id": "d847bb962ab64fd0897ea65db521906f",
       "version_major": 2,
       "version_minor": 0
      },
      "text/plain": [
       "0it [00:00, ?it/s]"
      ]
     },
     "metadata": {},
     "output_type": "display_data"
    },
    {
     "name": "stdout",
     "output_type": "stream",
     "text": [
      "There are 75835 / 234379 pretrained vectors found.\n"
     ]
    }
   ],
   "source": [
    "vocab = set([str.lower() for str in words.words()])\n",
    "\n",
    "# train_dataset = WholeData(train_data_dir, src_vocab=vocab, use_max_len=True, max_len=max_len)\n",
    "# test_dataset = WholeData(test_data_dir, src_vocab=vocab, use_max_len=True, max_len=max_len)\n",
    "# Balanced dataset\n",
    "train_dataset = BalancedData(train_data_dir, src_vocab=vocab, use_max_len=True, max_len=max_len)\n",
    "test_dataset = BalancedData(test_data_dir, src_vocab=vocab, use_max_len=True, max_len=max_len)\n",
    "\n",
    "w2idx = train_dataset.src_v2id\n",
    "\n",
    "embed = utils.load_pretrained_vectors(w2idx, \"fastText/crawl-300d-2M.vec\")\n",
    "embed = torch.tensor(embed)"
   ]
  },
  {
   "cell_type": "code",
   "execution_count": 17,
   "metadata": {},
   "outputs": [],
   "source": [
    "train_dataloader = data.DataLoader(train_dataset, batch_size=batch_size, shuffle=True, \n",
    "                                   num_workers=8, pin_memory=True)\n",
    "test_dataloader = data.DataLoader(test_dataset, batch_size=batch_size, shuffle=True, \n",
    "                                  num_workers=8, pin_memory=True, drop_last=True)\n"
   ]
  },
  {
   "cell_type": "code",
   "execution_count": 18,
   "metadata": {
    "id": "02Yh5OkQZYnB"
   },
   "outputs": [
    {
     "name": "stdout",
     "output_type": "stream",
     "text": [
      "Using pretrained vectors...\n"
     ]
    }
   ],
   "source": [
    "model = models.spam_lstm(hidden_size=hidden_size, pretrained_embedding=embed, dropout=dropout).to(device)\n",
    "loss_fn = nn.BCEWithLogitsLoss().to(device)\n",
    "opt = Adam(model.parameters(), lr=learning_rate)"
   ]
  },
  {
   "cell_type": "code",
   "execution_count": 19,
   "metadata": {
    "id": "MM1a0IiQZbb5"
   },
   "outputs": [
    {
     "name": "stderr",
     "output_type": "stream",
     "text": [
      "  3%|▎         | 1/30 [00:05<02:46,  5.74s/it]"
     ]
    },
    {
     "name": "stdout",
     "output_type": "stream",
     "text": [
      "Epoch 0\n",
      "-------------------------------\n",
      "Training loss: 0.692561, avg accuracy: 0.510353\n",
      "Testing loss: 0.689884, avg accuracy: 0.536345\n"
     ]
    },
    {
     "name": "stderr",
     "output_type": "stream",
     "text": [
      "\r",
      "  7%|▋         | 2/30 [00:11<02:40,  5.74s/it]"
     ]
    },
    {
     "name": "stdout",
     "output_type": "stream",
     "text": [
      "Epoch 1\n",
      "-------------------------------\n",
      "Training loss: 0.401913, avg accuracy: 0.821951\n",
      "Testing loss: 0.440129, avg accuracy: 0.857337\n"
     ]
    },
    {
     "name": "stderr",
     "output_type": "stream",
     "text": [
      "\r",
      " 10%|█         | 3/30 [00:17<02:34,  5.74s/it]"
     ]
    },
    {
     "name": "stdout",
     "output_type": "stream",
     "text": [
      "Epoch 2\n",
      "-------------------------------\n",
      "Training loss: 0.201651, avg accuracy: 0.937263\n",
      "Testing loss: 0.358053, avg accuracy: 0.853261\n"
     ]
    },
    {
     "name": "stderr",
     "output_type": "stream",
     "text": [
      "\r",
      " 13%|█▎        | 4/30 [00:22<02:29,  5.74s/it]"
     ]
    },
    {
     "name": "stdout",
     "output_type": "stream",
     "text": [
      "Epoch 3\n",
      "-------------------------------\n",
      "Training loss: 0.136714, avg accuracy: 0.959299\n",
      "Testing loss: 0.351929, avg accuracy: 0.883832\n"
     ]
    },
    {
     "name": "stderr",
     "output_type": "stream",
     "text": [
      "\r",
      " 17%|█▋        | 5/30 [00:28<02:23,  5.75s/it]"
     ]
    },
    {
     "name": "stdout",
     "output_type": "stream",
     "text": [
      "Epoch 4\n",
      "-------------------------------\n",
      "Training loss: 0.115431, avg accuracy: 0.967325\n",
      "Testing loss: 0.312527, avg accuracy: 0.904552\n"
     ]
    },
    {
     "name": "stderr",
     "output_type": "stream",
     "text": [
      "\r",
      " 20%|██        | 6/30 [00:34<02:17,  5.75s/it]"
     ]
    },
    {
     "name": "stdout",
     "output_type": "stream",
     "text": [
      "Epoch 5\n",
      "-------------------------------\n",
      "Training loss: 0.086893, avg accuracy: 0.973214\n",
      "Testing loss: 0.396577, avg accuracy: 0.876359\n"
     ]
    },
    {
     "name": "stderr",
     "output_type": "stream",
     "text": [
      "\r",
      " 23%|██▎       | 7/30 [00:40<02:12,  5.75s/it]"
     ]
    },
    {
     "name": "stdout",
     "output_type": "stream",
     "text": [
      "Epoch 6\n",
      "-------------------------------\n",
      "Training loss: 0.061233, avg accuracy: 0.980718\n",
      "Testing loss: 0.264330, avg accuracy: 0.901155\n"
     ]
    },
    {
     "name": "stderr",
     "output_type": "stream",
     "text": [
      "\r",
      " 27%|██▋       | 8/30 [00:45<02:06,  5.75s/it]"
     ]
    },
    {
     "name": "stdout",
     "output_type": "stream",
     "text": [
      "Epoch 7\n",
      "-------------------------------\n",
      "Training loss: 0.045700, avg accuracy: 0.986702\n",
      "Testing loss: 0.422037, avg accuracy: 0.893682\n"
     ]
    },
    {
     "name": "stderr",
     "output_type": "stream",
     "text": [
      "\r",
      " 30%|███       | 9/30 [00:51<02:00,  5.76s/it]"
     ]
    },
    {
     "name": "stdout",
     "output_type": "stream",
     "text": [
      "Epoch 8\n",
      "-------------------------------\n",
      "Training loss: 0.033236, avg accuracy: 0.990976\n",
      "Testing loss: 0.355002, avg accuracy: 0.876019\n"
     ]
    },
    {
     "name": "stderr",
     "output_type": "stream",
     "text": [
      "\r",
      " 33%|███▎      | 10/30 [00:57<01:55,  5.77s/it]"
     ]
    },
    {
     "name": "stdout",
     "output_type": "stream",
     "text": [
      "Epoch 9\n",
      "-------------------------------\n",
      "Training loss: 0.032779, avg accuracy: 0.989362\n",
      "Testing loss: 0.435823, avg accuracy: 0.881114\n"
     ]
    },
    {
     "name": "stderr",
     "output_type": "stream",
     "text": [
      "\r",
      " 37%|███▋      | 11/30 [01:03<01:49,  5.77s/it]"
     ]
    },
    {
     "name": "stdout",
     "output_type": "stream",
     "text": [
      "Epoch 10\n",
      "-------------------------------\n",
      "Training loss: 0.022781, avg accuracy: 0.994016\n",
      "Testing loss: 0.351588, avg accuracy: 0.884171\n"
     ]
    },
    {
     "name": "stderr",
     "output_type": "stream",
     "text": [
      "\r",
      " 40%|████      | 12/30 [01:09<01:43,  5.77s/it]"
     ]
    },
    {
     "name": "stdout",
     "output_type": "stream",
     "text": [
      "Epoch 11\n",
      "-------------------------------\n",
      "Training loss: 0.017011, avg accuracy: 0.995631\n",
      "Testing loss: 0.480874, avg accuracy: 0.865489\n"
     ]
    },
    {
     "name": "stderr",
     "output_type": "stream",
     "text": [
      "\r",
      " 43%|████▎     | 13/30 [01:14<01:38,  5.78s/it]"
     ]
    },
    {
     "name": "stdout",
     "output_type": "stream",
     "text": [
      "Epoch 12\n",
      "-------------------------------\n",
      "Training loss: 0.011162, avg accuracy: 0.997673\n",
      "Testing loss: 0.675004, avg accuracy: 0.865489\n"
     ]
    },
    {
     "name": "stderr",
     "output_type": "stream",
     "text": [
      "\r",
      " 47%|████▋     | 14/30 [01:20<01:32,  5.78s/it]"
     ]
    },
    {
     "name": "stdout",
     "output_type": "stream",
     "text": [
      "Epoch 13\n",
      "-------------------------------\n",
      "Training loss: 0.025818, avg accuracy: 0.995678\n",
      "Testing loss: 0.802857, avg accuracy: 0.868207\n"
     ]
    },
    {
     "name": "stderr",
     "output_type": "stream",
     "text": [
      "\r",
      " 50%|█████     | 15/30 [01:26<01:26,  5.78s/it]"
     ]
    },
    {
     "name": "stdout",
     "output_type": "stream",
     "text": [
      "Epoch 14\n",
      "-------------------------------\n",
      "Training loss: 0.041791, avg accuracy: 0.990359\n",
      "Testing loss: 0.458880, avg accuracy: 0.858356\n"
     ]
    },
    {
     "name": "stderr",
     "output_type": "stream",
     "text": [
      "\r",
      " 53%|█████▎    | 16/30 [01:32<01:20,  5.79s/it]"
     ]
    },
    {
     "name": "stdout",
     "output_type": "stream",
     "text": [
      "Epoch 15\n",
      "-------------------------------\n",
      "Training loss: 0.026252, avg accuracy: 0.992591\n",
      "Testing loss: 0.844918, avg accuracy: 0.839674\n"
     ]
    },
    {
     "name": "stderr",
     "output_type": "stream",
     "text": [
      "\r",
      " 57%|█████▋    | 17/30 [01:38<01:15,  5.78s/it]"
     ]
    },
    {
     "name": "stdout",
     "output_type": "stream",
     "text": [
      "Epoch 16\n",
      "-------------------------------\n",
      "Training loss: 0.053209, avg accuracy: 0.989362\n",
      "Testing loss: 0.684097, avg accuracy: 0.854620\n"
     ]
    },
    {
     "name": "stderr",
     "output_type": "stream",
     "text": [
      "\r",
      " 60%|██████    | 18/30 [01:43<01:09,  5.79s/it]"
     ]
    },
    {
     "name": "stdout",
     "output_type": "stream",
     "text": [
      "Epoch 17\n",
      "-------------------------------\n",
      "Training loss: 0.015795, avg accuracy: 0.996343\n",
      "Testing loss: 0.508957, avg accuracy: 0.894701\n"
     ]
    },
    {
     "name": "stderr",
     "output_type": "stream",
     "text": [
      "\r",
      " 63%|██████▎   | 19/30 [01:49<01:03,  5.79s/it]"
     ]
    },
    {
     "name": "stdout",
     "output_type": "stream",
     "text": [
      "Epoch 18\n",
      "-------------------------------\n",
      "Training loss: 0.007753, avg accuracy: 0.998005\n",
      "Testing loss: 0.793904, avg accuracy: 0.860734\n"
     ]
    },
    {
     "name": "stderr",
     "output_type": "stream",
     "text": [
      "\r",
      " 67%|██████▋   | 20/30 [01:55<00:57,  5.79s/it]"
     ]
    },
    {
     "name": "stdout",
     "output_type": "stream",
     "text": [
      "Epoch 19\n",
      "-------------------------------\n",
      "Training loss: 0.015267, avg accuracy: 0.995678\n",
      "Testing loss: 0.814082, avg accuracy: 0.869226\n"
     ]
    },
    {
     "name": "stderr",
     "output_type": "stream",
     "text": [
      "\r",
      " 70%|███████   | 21/30 [02:01<00:52,  5.79s/it]"
     ]
    },
    {
     "name": "stdout",
     "output_type": "stream",
     "text": [
      "Epoch 20\n",
      "-------------------------------\n",
      "Training loss: 0.007498, avg accuracy: 0.999003\n",
      "Testing loss: 0.786308, avg accuracy: 0.869565\n"
     ]
    },
    {
     "name": "stderr",
     "output_type": "stream",
     "text": [
      "\r",
      " 73%|███████▎  | 22/30 [02:06<00:46,  5.79s/it]"
     ]
    },
    {
     "name": "stdout",
     "output_type": "stream",
     "text": [
      "Epoch 21\n",
      "-------------------------------\n",
      "Training loss: 0.010767, avg accuracy: 0.998338\n",
      "Testing loss: 0.998982, avg accuracy: 0.849185\n"
     ]
    },
    {
     "name": "stderr",
     "output_type": "stream",
     "text": [
      "\r",
      " 77%|███████▋  | 23/30 [02:12<00:40,  5.80s/it]"
     ]
    },
    {
     "name": "stdout",
     "output_type": "stream",
     "text": [
      "Epoch 22\n",
      "-------------------------------\n",
      "Training loss: 0.016035, avg accuracy: 0.996011\n",
      "Testing loss: 0.632654, avg accuracy: 0.876698\n"
     ]
    },
    {
     "name": "stderr",
     "output_type": "stream",
     "text": [
      "\r",
      " 80%|████████  | 24/30 [02:18<00:34,  5.80s/it]"
     ]
    },
    {
     "name": "stdout",
     "output_type": "stream",
     "text": [
      "Epoch 23\n",
      "-------------------------------\n",
      "Training loss: 0.018808, avg accuracy: 0.995678\n",
      "Testing loss: 0.467136, avg accuracy: 0.882473\n"
     ]
    },
    {
     "name": "stderr",
     "output_type": "stream",
     "text": [
      "\r",
      " 83%|████████▎ | 25/30 [02:24<00:28,  5.79s/it]"
     ]
    },
    {
     "name": "stdout",
     "output_type": "stream",
     "text": [
      "Epoch 24\n",
      "-------------------------------\n",
      "Training loss: 0.004486, avg accuracy: 0.999335\n",
      "Testing loss: 0.787431, avg accuracy: 0.874660\n"
     ]
    },
    {
     "name": "stderr",
     "output_type": "stream",
     "text": [
      "\r",
      " 87%|████████▋ | 26/30 [02:30<00:23,  5.79s/it]"
     ]
    },
    {
     "name": "stdout",
     "output_type": "stream",
     "text": [
      "Epoch 25\n",
      "-------------------------------\n",
      "Training loss: 0.003108, avg accuracy: 0.999668\n",
      "Testing loss: 0.814243, avg accuracy: 0.875340\n"
     ]
    },
    {
     "name": "stderr",
     "output_type": "stream",
     "text": [
      "\r",
      " 90%|█████████ | 27/30 [02:35<00:17,  5.79s/it]"
     ]
    },
    {
     "name": "stdout",
     "output_type": "stream",
     "text": [
      "Epoch 26\n",
      "-------------------------------\n",
      "Training loss: 0.002984, avg accuracy: 0.999668\n",
      "Testing loss: 0.825054, avg accuracy: 0.876698\n"
     ]
    },
    {
     "name": "stderr",
     "output_type": "stream",
     "text": [
      "\r",
      " 93%|█████████▎| 28/30 [02:41<00:11,  5.79s/it]"
     ]
    },
    {
     "name": "stdout",
     "output_type": "stream",
     "text": [
      "Epoch 27\n",
      "-------------------------------\n",
      "Training loss: 0.002891, avg accuracy: 0.999668\n",
      "Testing loss: 0.852341, avg accuracy: 0.873981\n"
     ]
    },
    {
     "name": "stderr",
     "output_type": "stream",
     "text": [
      "\r",
      " 97%|█████████▋| 29/30 [02:47<00:05,  5.80s/it]"
     ]
    },
    {
     "name": "stdout",
     "output_type": "stream",
     "text": [
      "Epoch 28\n",
      "-------------------------------\n",
      "Training loss: 0.002890, avg accuracy: 0.999668\n",
      "Testing loss: 0.847403, avg accuracy: 0.878057\n"
     ]
    },
    {
     "name": "stderr",
     "output_type": "stream",
     "text": [
      "100%|██████████| 30/30 [02:53<00:00,  5.78s/it]"
     ]
    },
    {
     "name": "stdout",
     "output_type": "stream",
     "text": [
      "Epoch 29\n",
      "-------------------------------\n",
      "Training loss: 0.002870, avg accuracy: 0.999668\n",
      "Testing loss: 0.867772, avg accuracy: 0.876698\n"
     ]
    },
    {
     "name": "stderr",
     "output_type": "stream",
     "text": [
      "\n"
     ]
    },
    {
     "name": "stdout",
     "output_type": "stream",
     "text": [
      "Final testing loss: 0.888697, testing accuracy: 0.873641\n",
      "Ham Precision: 0.921659, Recall: 0.816327, F1 score: 0.865801.\n",
      "Ham Precision: 0.835566, Recall: 0.930801, F1 score: 0.880616.\n"
     ]
    },
    {
     "data": {
      "text/plain": [
       "(0.002869866807583442, 0.8886965435484181)"
      ]
     },
     "execution_count": 19,
     "metadata": {},
     "output_type": "execute_result"
    },
    {
     "data": {
      "image/png": "[encoded data removed]",
      "text/plain": [
       "<Figure size 432x288 with 1 Axes>"
      ]
     },
     "metadata": {},
     "output_type": "display_data"
    },
    {
     "data": {
      "image/png": "[encoded data removed]",
      "text/plain": [
       "<Figure size 432x288 with 1 Axes>"
      ]
     },
     "metadata": {},
     "output_type": "display_data"
    }
   ],
   "source": [
    "utils.train_test_scheme(train_dataloader, test_dataloader, model, loss_fn, opt, \n",
    "                        task_name=\"balancew2v+lstm80hid512\", epochs=epochs, \n",
    "                        vis=plot_yes, print_every=1, img_dir=output_dir)\n",
    "\n"
   ]
  },
  {
   "cell_type": "code",
   "execution_count": 8,
   "metadata": {
    "id": "MRKEnXMwZbj5"
   },
   "outputs": [],
   "source": [
    "#torch.save(model.state_dict(), output_dir+\"balancew2v_lstm100batch32.pt\")"
   ]
  },
  {
   "cell_type": "code",
   "execution_count": 9,
   "metadata": {},
   "outputs": [],
   "source": [
    "#test_message = \"Subject: Look, I understand everything, but this is a frank bust... Look here and tell me your opinion\""
   ]
  },
  {
   "cell_type": "code",
   "execution_count": 10,
   "metadata": {},
   "outputs": [],
   "source": [
    "# from preprocess import clean_string\n",
    "# context = clean_string(test_message)\n",
    "# sent_id = [0 for _ in range(max_len)]\n",
    "# for i, w in enumerate(context):\n",
    "#     if i >= max_len:\n",
    "#         break\n",
    "#     if w not in train_dataset.vocab:\n",
    "#         w = '<unk>'\n",
    "#     sent_id[i] = train_dataset.src_v2id[w]\n",
    "# sent_id = torch.unsqueeze(torch.tensor(sent_id),dim=0).to(device)"
   ]
  },
  {
   "cell_type": "code",
   "execution_count": 11,
   "metadata": {},
   "outputs": [],
   "source": [
    "# model.eval()\n",
    "# print(f\"Email message: \\\"{test_message}\\\"\")\n",
    "# with torch.no_grad():\n",
    "#     pred = nn.Sigmoid()(model(sent_id))\n",
    "#     pred = torch.squeeze(pred)\n",
    "\n",
    "#     if pred > 0.5:\n",
    "#         print(\"This is a ham email message.\")\n",
    "#     else:\n",
    "#         print(\"This is a spam email message.\")\n",
    "\n",
    "# print(f\"The probability of this email being a spam is {(1-pred)*100:.1f}%.\")"
   ]
  },
  {
   "cell_type": "code",
   "execution_count": null,
   "metadata": {},
   "outputs": [],
   "source": []
  }
 ],
 "metadata": {
  "accelerator": "GPU",
  "colab": {
   "authorship_tag": "ABX9TyMSShHoZHgFnok0mGefVUMx",
   "include_colab_link": true,
   "name": "main_driver.ipynb",
   "provenance": []
  },
  "kernelspec": {
   "display_name": "Python 3",
   "language": "python",
   "name": "python3"
  },
  "language_info": {
   "codemirror_mode": {
    "name": "ipython",
    "version": 3
   },
   "file_extension": ".py",
   "mimetype": "text/x-python",
   "name": "python",
   "nbconvert_exporter": "python",
   "pygments_lexer": "ipython3",
   "version": "3.6.13"
  }
 },
 "nbformat": 4,
 "nbformat_minor": 1
}
