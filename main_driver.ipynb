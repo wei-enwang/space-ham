{
 "cells": [
  {
   "cell_type": "markdown",
   "metadata": {
    "colab_type": "text",
    "id": "view-in-github"
   },
   "source": [
    "<a href=\"https://colab.research.google.com/github/wei-enwang/space-ham/blob/main/main_driver.ipynb\" target=\"_parent\"><img src=\"https://colab.research.google.com/assets/colab-badge.svg\" alt=\"Open In Colab\"/></a>"
   ]
  },
  {
   "cell_type": "code",
   "execution_count": 1,
   "metadata": {
    "colab": {
     "base_uri": "https://localhost:8080/"
    },
    "id": "kjCdg-iXZDwP",
    "outputId": "4dd5b5da-3943-40f3-8e49-e387ba71352c"
   },
   "outputs": [
    {
     "name": "stderr",
     "output_type": "stream",
     "text": [
      "[nltk_data] Downloading package stopwords to\n",
      "[nltk_data]     /home/weinwang/nltk_data...\n",
      "[nltk_data]   Package stopwords is already up-to-date!\n"
     ]
    }
   ],
   "source": [
    "import numpy as np\n",
    "import nltk\n",
    "from nltk.corpus import words\n",
    "import torch\n",
    "import torch.nn as nn\n",
    "from torch.optim import Adam\n",
    "from torch.utils import data\n",
    "from preprocess import WholeData, BalancedData\n",
    "\n",
    "import models\n",
    "import utils"
   ]
  },
  {
   "cell_type": "code",
   "execution_count": 2,
   "metadata": {
    "colab": {
     "base_uri": "https://localhost:8080/"
    },
    "id": "vIrV_RW1ZPOx",
    "outputId": "2dbd80d2-f760-41fd-d29f-4c37f5746ece"
   },
   "outputs": [
    {
     "name": "stderr",
     "output_type": "stream",
     "text": [
      "[nltk_data] Downloading package words to /home/weinwang/nltk_data...\n",
      "[nltk_data]   Package words is already up-to-date!\n"
     ]
    }
   ],
   "source": [
    "nltk.download('words')\n",
    "\n",
    "device = \"cuda\" if torch.cuda.is_available() else \"cpu\"\n",
    "assert device == \"cuda\"   # use gpu whenever you can!\n",
    "\n",
    "seed = 32\n",
    "np.random.seed(seed)\n",
    "torch.manual_seed(seed)\n",
    "torch.cuda.manual_seed(seed)"
   ]
  },
  {
   "cell_type": "code",
   "execution_count": 3,
   "metadata": {
    "id": "GAV3D8KiZRjC"
   },
   "outputs": [],
   "source": [
    "plot_yes = True\n",
    "\n",
    "# use one dataset for now\n",
    "train_data_dir = \"./data/enron1/\"\n",
    "test_data_dir = \"./data/enron2/\"\n",
    "output_dir = \"./output/\"\n",
    "\n",
    "# hyperparameters\n",
    "batch_size = 64\n",
    "hidden_size = 128\n",
    "num_layer = 3\n",
    "dropout = 0.5\n",
    "learning_rate = 1e-4\n",
    "epochs = 30\n",
    "max_len = 300"
   ]
  },
  {
   "cell_type": "code",
   "execution_count": 4,
   "metadata": {
    "colab": {
     "base_uri": "https://localhost:8080/",
     "height": 381
    },
    "id": "Jx_x0qSRZUnN",
    "outputId": "58864b60-0aa3-4b73-8e79-8abaa7961c0f"
   },
   "outputs": [
    {
     "name": "stdout",
     "output_type": "stream",
     "text": [
      "Loading pretrained vectors...\n",
      "234378\n"
     ]
    },
    {
     "data": {
      "application/vnd.jupyter.widget-view+json": {
       "model_id": "c4ebabe723214e678e19fd3a5b4ff2f5",
       "version_major": 2,
       "version_minor": 0
      },
      "text/plain": [
       "0it [00:00, ?it/s]"
      ]
     },
     "metadata": {},
     "output_type": "display_data"
    },
    {
     "name": "stdout",
     "output_type": "stream",
     "text": [
      "There are 75835 / 234379 pretrained vectors found.\n"
     ]
    }
   ],
   "source": [
    "vocab = set([str.lower() for str in words.words()])\n",
    "\n",
    "train_dataset = WholeData(train_data_dir, src_vocab=vocab, use_max_len=True, max_len=max_len)\n",
    "test_dataset = WholeData(test_data_dir, src_vocab=vocab, use_max_len=True, max_len=max_len)\n",
    "# Balanced dataset\n",
    "# train_dataset = BalancedData(train_data_dir, src_vocab=vocab, use_max_len=True, max_len=max_len)\n",
    "# test_dataset = BalancedData(test_data_dir, src_vocab=vocab, use_max_len=True, max_len=max_len)\n",
    "\n",
    "w2idx = train_dataset.src_v2id\n",
    "\n",
    "embed = utils.load_pretrained_vectors(w2idx, \"fastText/crawl-300d-2M.vec\")\n",
    "embed = torch.tensor(embed)"
   ]
  },
  {
   "cell_type": "code",
   "execution_count": 5,
   "metadata": {},
   "outputs": [],
   "source": [
    "train_dataloader = data.DataLoader(train_dataset, batch_size=batch_size, shuffle=True, \n",
    "                                   num_workers=8, pin_memory=True)\n",
    "test_dataloader = data.DataLoader(test_dataset, batch_size=batch_size, shuffle=True, \n",
    "                                  num_workers=8, pin_memory=True, drop_last=True)\n"
   ]
  },
  {
   "cell_type": "code",
   "execution_count": 6,
   "metadata": {
    "id": "02Yh5OkQZYnB"
   },
   "outputs": [
    {
     "name": "stdout",
     "output_type": "stream",
     "text": [
      "Using pretrained vectors...\n"
     ]
    }
   ],
   "source": [
    "model = models.spam_lstm(hidden_size=hidden_size, pretrained_embedding=embed, dropout=dropout).to(device)\n",
    "loss_fn = nn.BCEWithLogitsLoss().to(device)\n",
    "opt = Adam(model.parameters(), lr=learning_rate)"
   ]
  },
  {
   "cell_type": "code",
   "execution_count": 7,
   "metadata": {
    "id": "MM1a0IiQZbb5"
   },
   "outputs": [
    {
     "name": "stderr",
     "output_type": "stream",
     "text": [
      "  0%|          | 0/30 [00:00<?, ?it/s]/home/weinwang/anaconda3/envs/nlp/lib/python3.6/site-packages/torch/nn/functional.py:1350: UserWarning: nn.functional.sigmoid is deprecated. Use torch.sigmoid instead.\n",
      "  warnings.warn(\"nn.functional.sigmoid is deprecated. Use torch.sigmoid instead.\")\n",
      "  3%|▎         | 1/30 [00:12<05:54, 12.22s/it]"
     ]
    },
    {
     "name": "stdout",
     "output_type": "stream",
     "text": [
      "Epoch 0\n",
      "-------------------------------\n",
      "Training loss: 0.638315, avg accuracy: 0.709891\n",
      "Testing loss: 0.570466, avg accuracy: 0.745021\n"
     ]
    },
    {
     "name": "stderr",
     "output_type": "stream",
     "text": [
      "\r",
      "  7%|▋         | 2/30 [00:24<05:42, 12.25s/it]"
     ]
    },
    {
     "name": "stdout",
     "output_type": "stream",
     "text": [
      "Epoch 1\n",
      "-------------------------------\n",
      "Training loss: 0.599499, avg accuracy: 0.709936\n",
      "Testing loss: 0.569280, avg accuracy: 0.744334\n"
     ]
    },
    {
     "name": "stderr",
     "output_type": "stream",
     "text": [
      "\r",
      " 10%|█         | 3/30 [00:36<05:31, 12.26s/it]"
     ]
    },
    {
     "name": "stdout",
     "output_type": "stream",
     "text": [
      "Epoch 2\n",
      "-------------------------------\n",
      "Training loss: 0.595437, avg accuracy: 0.710069\n",
      "Testing loss: 0.573379, avg accuracy: 0.745021\n"
     ]
    },
    {
     "name": "stderr",
     "output_type": "stream",
     "text": [
      "\r",
      " 13%|█▎        | 4/30 [00:49<05:19, 12.27s/it]"
     ]
    },
    {
     "name": "stdout",
     "output_type": "stream",
     "text": [
      "Epoch 3\n",
      "-------------------------------\n",
      "Training loss: 0.587644, avg accuracy: 0.710693\n",
      "Testing loss: 0.561881, avg accuracy: 0.745192\n"
     ]
    },
    {
     "name": "stderr",
     "output_type": "stream",
     "text": [
      "\r",
      " 17%|█▋        | 5/30 [01:01<05:06, 12.26s/it]"
     ]
    },
    {
     "name": "stdout",
     "output_type": "stream",
     "text": [
      "Epoch 4\n",
      "-------------------------------\n",
      "Training loss: 0.513619, avg accuracy: 0.725056\n",
      "Testing loss: 0.353599, avg accuracy: 0.752404\n"
     ]
    },
    {
     "name": "stderr",
     "output_type": "stream",
     "text": [
      "\r",
      " 20%|██        | 6/30 [01:13<04:54, 12.25s/it]"
     ]
    },
    {
     "name": "stdout",
     "output_type": "stream",
     "text": [
      "Epoch 5\n",
      "-------------------------------\n",
      "Training loss: 0.458476, avg accuracy: 0.739034\n",
      "Testing loss: 0.415353, avg accuracy: 0.736779\n"
     ]
    },
    {
     "name": "stderr",
     "output_type": "stream",
     "text": [
      "\r",
      " 23%|██▎       | 7/30 [01:25<04:41, 12.24s/it]"
     ]
    },
    {
     "name": "stdout",
     "output_type": "stream",
     "text": [
      "Epoch 6\n",
      "-------------------------------\n",
      "Training loss: 0.460038, avg accuracy: 0.737402\n",
      "Testing loss: 0.350405, avg accuracy: 0.754293\n"
     ]
    },
    {
     "name": "stderr",
     "output_type": "stream",
     "text": [
      "\r",
      " 27%|██▋       | 8/30 [01:37<04:29, 12.24s/it]"
     ]
    },
    {
     "name": "stdout",
     "output_type": "stream",
     "text": [
      "Epoch 7\n",
      "-------------------------------\n",
      "Training loss: 0.440595, avg accuracy: 0.744643\n",
      "Testing loss: 0.336955, avg accuracy: 0.867102\n"
     ]
    },
    {
     "name": "stderr",
     "output_type": "stream",
     "text": [
      "\r",
      " 30%|███       | 9/30 [01:50<04:17, 12.26s/it]"
     ]
    },
    {
     "name": "stdout",
     "output_type": "stream",
     "text": [
      "Epoch 8\n",
      "-------------------------------\n",
      "Training loss: 0.448977, avg accuracy: 0.764987\n",
      "Testing loss: 0.369088, avg accuracy: 0.885646\n"
     ]
    },
    {
     "name": "stderr",
     "output_type": "stream",
     "text": [
      "\r",
      " 33%|███▎      | 10/30 [02:02<04:05, 12.27s/it]"
     ]
    },
    {
     "name": "stdout",
     "output_type": "stream",
     "text": [
      "Epoch 9\n",
      "-------------------------------\n",
      "Training loss: 0.468668, avg accuracy: 0.748012\n",
      "Testing loss: 0.348300, avg accuracy: 0.882212\n"
     ]
    },
    {
     "name": "stderr",
     "output_type": "stream",
     "text": [
      "\r",
      " 37%|███▋      | 11/30 [02:14<03:53, 12.26s/it]"
     ]
    },
    {
     "name": "stdout",
     "output_type": "stream",
     "text": [
      "Epoch 10\n",
      "-------------------------------\n",
      "Training loss: 0.451022, avg accuracy: 0.762509\n",
      "Testing loss: 0.422968, avg accuracy: 0.754808\n"
     ]
    },
    {
     "name": "stderr",
     "output_type": "stream",
     "text": [
      "\r",
      " 40%|████      | 12/30 [02:27<03:41, 12.28s/it]"
     ]
    },
    {
     "name": "stdout",
     "output_type": "stream",
     "text": [
      "Epoch 11\n",
      "-------------------------------\n",
      "Training loss: 0.462785, avg accuracy: 0.738871\n",
      "Testing loss: 0.348790, avg accuracy: 0.760646\n"
     ]
    },
    {
     "name": "stderr",
     "output_type": "stream",
     "text": [
      "\r",
      " 43%|████▎     | 13/30 [02:39<03:28, 12.28s/it]"
     ]
    },
    {
     "name": "stdout",
     "output_type": "stream",
     "text": [
      "Epoch 12\n",
      "-------------------------------\n",
      "Training loss: 0.431242, avg accuracy: 0.746276\n",
      "Testing loss: 0.345600, avg accuracy: 0.762534\n"
     ]
    },
    {
     "name": "stderr",
     "output_type": "stream",
     "text": [
      "\r",
      " 47%|████▋     | 14/30 [02:51<03:16, 12.29s/it]"
     ]
    },
    {
     "name": "stdout",
     "output_type": "stream",
     "text": [
      "Epoch 13\n",
      "-------------------------------\n",
      "Training loss: 0.432664, avg accuracy: 0.749436\n",
      "Testing loss: 0.342618, avg accuracy: 0.874657\n"
     ]
    },
    {
     "name": "stderr",
     "output_type": "stream",
     "text": [
      "\r",
      " 50%|█████     | 15/30 [03:04<03:04, 12.31s/it]"
     ]
    },
    {
     "name": "stdout",
     "output_type": "stream",
     "text": [
      "Epoch 14\n",
      "-------------------------------\n",
      "Training loss: 0.408614, avg accuracy: 0.813776\n",
      "Testing loss: 0.330663, avg accuracy: 0.870707\n"
     ]
    },
    {
     "name": "stderr",
     "output_type": "stream",
     "text": [
      "\r",
      " 53%|█████▎    | 16/30 [03:16<02:52, 12.31s/it]"
     ]
    },
    {
     "name": "stdout",
     "output_type": "stream",
     "text": [
      "Epoch 15\n",
      "-------------------------------\n",
      "Training loss: 0.389794, avg accuracy: 0.853944\n",
      "Testing loss: 0.373359, avg accuracy: 0.854567\n"
     ]
    },
    {
     "name": "stderr",
     "output_type": "stream",
     "text": [
      "\r",
      " 57%|█████▋    | 17/30 [03:28<02:40, 12.31s/it]"
     ]
    },
    {
     "name": "stdout",
     "output_type": "stream",
     "text": [
      "Epoch 16\n",
      "-------------------------------\n",
      "Training loss: 0.388710, avg accuracy: 0.852549\n",
      "Testing loss: 0.378052, avg accuracy: 0.853194\n"
     ]
    },
    {
     "name": "stderr",
     "output_type": "stream",
     "text": [
      "\r",
      " 60%|██████    | 18/30 [03:41<02:27, 12.32s/it]"
     ]
    },
    {
     "name": "stdout",
     "output_type": "stream",
     "text": [
      "Epoch 17\n",
      "-------------------------------\n",
      "Training loss: 0.386477, avg accuracy: 0.852104\n",
      "Testing loss: 0.374766, avg accuracy: 0.855426\n"
     ]
    },
    {
     "name": "stderr",
     "output_type": "stream",
     "text": [
      "\r",
      " 63%|██████▎   | 19/30 [03:53<02:15, 12.32s/it]"
     ]
    },
    {
     "name": "stdout",
     "output_type": "stream",
     "text": [
      "Epoch 18\n",
      "-------------------------------\n",
      "Training loss: 0.385376, avg accuracy: 0.853618\n",
      "Testing loss: 0.378798, avg accuracy: 0.854224\n"
     ]
    },
    {
     "name": "stderr",
     "output_type": "stream",
     "text": [
      "\r",
      " 67%|██████▋   | 20/30 [04:05<02:02, 12.28s/it]"
     ]
    },
    {
     "name": "stdout",
     "output_type": "stream",
     "text": [
      "Epoch 19\n",
      "-------------------------------\n",
      "Training loss: 0.382680, avg accuracy: 0.855814\n",
      "Testing loss: 0.375586, avg accuracy: 0.855769\n"
     ]
    },
    {
     "name": "stderr",
     "output_type": "stream",
     "text": [
      "\r",
      " 70%|███████   | 21/30 [04:17<01:50, 12.29s/it]"
     ]
    },
    {
     "name": "stdout",
     "output_type": "stream",
     "text": [
      "Epoch 20\n",
      "-------------------------------\n",
      "Training loss: 0.386029, avg accuracy: 0.853336\n",
      "Testing loss: 0.373743, avg accuracy: 0.856971\n"
     ]
    },
    {
     "name": "stderr",
     "output_type": "stream",
     "text": [
      "\r",
      " 73%|███████▎  | 22/30 [04:30<01:38, 12.30s/it]"
     ]
    },
    {
     "name": "stdout",
     "output_type": "stream",
     "text": [
      "Epoch 21\n",
      "-------------------------------\n",
      "Training loss: 0.384340, avg accuracy: 0.854256\n",
      "Testing loss: 0.371295, avg accuracy: 0.856799\n"
     ]
    },
    {
     "name": "stderr",
     "output_type": "stream",
     "text": [
      "\r",
      " 77%|███████▋  | 23/30 [04:42<01:26, 12.29s/it]"
     ]
    },
    {
     "name": "stdout",
     "output_type": "stream",
     "text": [
      "Epoch 22\n",
      "-------------------------------\n",
      "Training loss: 0.382507, avg accuracy: 0.855829\n",
      "Testing loss: 0.358529, avg accuracy: 0.862809\n"
     ]
    },
    {
     "name": "stderr",
     "output_type": "stream",
     "text": [
      "\r",
      " 80%|████████  | 24/30 [04:54<01:13, 12.31s/it]"
     ]
    },
    {
     "name": "stdout",
     "output_type": "stream",
     "text": [
      "Epoch 23\n",
      "-------------------------------\n",
      "Training loss: 0.388547, avg accuracy: 0.851140\n",
      "Testing loss: 0.386625, avg accuracy: 0.791380\n"
     ]
    },
    {
     "name": "stderr",
     "output_type": "stream",
     "text": [
      "\r",
      " 83%|████████▎ | 25/30 [05:07<01:01, 12.31s/it]"
     ]
    },
    {
     "name": "stdout",
     "output_type": "stream",
     "text": [
      "Epoch 24\n",
      "-------------------------------\n",
      "Training loss: 0.368353, avg accuracy: 0.829935\n",
      "Testing loss: 0.314760, avg accuracy: 0.850790\n"
     ]
    },
    {
     "name": "stderr",
     "output_type": "stream",
     "text": [
      "\r",
      " 87%|████████▋ | 26/30 [05:19<00:49, 12.30s/it]"
     ]
    },
    {
     "name": "stdout",
     "output_type": "stream",
     "text": [
      "Epoch 25\n",
      "-------------------------------\n",
      "Training loss: 0.350476, avg accuracy: 0.854953\n",
      "Testing loss: 0.304532, avg accuracy: 0.868475\n"
     ]
    },
    {
     "name": "stderr",
     "output_type": "stream",
     "text": [
      "\r",
      " 90%|█████████ | 27/30 [05:31<00:36, 12.29s/it]"
     ]
    },
    {
     "name": "stdout",
     "output_type": "stream",
     "text": [
      "Epoch 26\n",
      "-------------------------------\n",
      "Training loss: 0.353463, avg accuracy: 0.857758\n",
      "Testing loss: 0.298923, avg accuracy: 0.879464\n"
     ]
    },
    {
     "name": "stderr",
     "output_type": "stream",
     "text": [
      "\r",
      " 93%|█████████▎| 28/30 [05:43<00:24, 12.28s/it]"
     ]
    },
    {
     "name": "stdout",
     "output_type": "stream",
     "text": [
      "Epoch 27\n",
      "-------------------------------\n",
      "Training loss: 0.352078, avg accuracy: 0.860058\n",
      "Testing loss: 0.297538, avg accuracy: 0.881868\n"
     ]
    },
    {
     "name": "stderr",
     "output_type": "stream",
     "text": [
      "\r",
      " 97%|█████████▋| 29/30 [05:56<00:12, 12.30s/it]"
     ]
    },
    {
     "name": "stdout",
     "output_type": "stream",
     "text": [
      "Epoch 28\n",
      "-------------------------------\n",
      "Training loss: 0.448471, avg accuracy: 0.800258\n",
      "Testing loss: 0.564157, avg accuracy: 0.749141\n"
     ]
    },
    {
     "name": "stderr",
     "output_type": "stream",
     "text": [
      "100%|██████████| 30/30 [06:08<00:00, 12.29s/it]"
     ]
    },
    {
     "name": "stdout",
     "output_type": "stream",
     "text": [
      "Epoch 29\n",
      "-------------------------------\n",
      "Training loss: 0.564929, avg accuracy: 0.740251\n",
      "Testing loss: 0.563990, avg accuracy: 0.743819\n"
     ]
    },
    {
     "name": "stderr",
     "output_type": "stream",
     "text": [
      "\n"
     ]
    },
    {
     "name": "stdout",
     "output_type": "stream",
     "text": [
      "Final testing loss: 0.564208, testing accuracy: 0.743647\n",
      "Ham Precision: 0.753929, Recall: 0.973484, F1 score: 0.849753.\n",
      "Ham Precision: 0.486607, Recall: 0.073302, F1 score: 0.127411.\n"
     ]
    },
    {
     "data": {
      "text/plain": [
       "(0.5649286074402892, 0.56420815547744)"
      ]
     },
     "execution_count": 7,
     "metadata": {},
     "output_type": "execute_result"
    },
    {
     "data": {
      "image/png": "[encoded data removed]",
      "text/plain": [
       "<Figure size 432x288 with 1 Axes>"
      ]
     },
     "metadata": {},
     "output_type": "display_data"
    },
    {
     "data": {
      "image/png": "[encoded data removed]",
      "text/plain": [
       "<Figure size 432x288 with 1 Axes>"
      ]
     },
     "metadata": {},
     "output_type": "display_data"
    }
   ],
   "source": [
    "utils.train_test_scheme(train_dataloader, test_dataloader, model, loss_fn, opt, \n",
    "                        task_name=\"w2v+lstm300\", epochs=epochs, \n",
    "                        vis=plot_yes, print_every=1, img_dir=output_dir)\n",
    "\n"
   ]
  },
  {
   "cell_type": "code",
   "execution_count": 8,
   "metadata": {
    "id": "MRKEnXMwZbj5"
   },
   "outputs": [],
   "source": [
    "#torch.save(model.state_dict(), output_dir+\"balancew2v_lstm100batch32.pt\")"
   ]
  },
  {
   "cell_type": "code",
   "execution_count": 9,
   "metadata": {},
   "outputs": [],
   "source": [
    "#test_message = \"Subject: Look, I understand everything, but this is a frank bust... Look here and tell me your opinion\""
   ]
  },
  {
   "cell_type": "code",
   "execution_count": 10,
   "metadata": {},
   "outputs": [],
   "source": [
    "# from preprocess import clean_string\n",
    "# context = clean_string(test_message)\n",
    "# sent_id = [0 for _ in range(max_len)]\n",
    "# for i, w in enumerate(context):\n",
    "#     if i >= max_len:\n",
    "#         break\n",
    "#     if w not in train_dataset.vocab:\n",
    "#         w = '<unk>'\n",
    "#     sent_id[i] = train_dataset.src_v2id[w]\n",
    "# sent_id = torch.unsqueeze(torch.tensor(sent_id),dim=0).to(device)"
   ]
  },
  {
   "cell_type": "code",
   "execution_count": 11,
   "metadata": {},
   "outputs": [],
   "source": [
    "# model.eval()\n",
    "# print(f\"Email message: \\\"{test_message}\\\"\")\n",
    "# with torch.no_grad():\n",
    "#     pred = nn.Sigmoid()(model(sent_id))\n",
    "#     pred = torch.squeeze(pred)\n",
    "\n",
    "#     if pred > 0.5:\n",
    "#         print(\"This is a ham email message.\")\n",
    "#     else:\n",
    "#         print(\"This is a spam email message.\")\n",
    "\n",
    "# print(f\"The probability of this email being a spam is {(1-pred)*100:.1f}%.\")"
   ]
  },
  {
   "cell_type": "code",
   "execution_count": null,
   "metadata": {},
   "outputs": [],
   "source": []
  }
 ],
 "metadata": {
  "accelerator": "GPU",
  "colab": {
   "authorship_tag": "ABX9TyMSShHoZHgFnok0mGefVUMx",
   "include_colab_link": true,
   "name": "main_driver.ipynb",
   "provenance": []
  },
  "kernelspec": {
   "display_name": "Python 3",
   "language": "python",
   "name": "python3"
  },
  "language_info": {
   "codemirror_mode": {
    "name": "ipython",
    "version": 3
   },
   "file_extension": ".py",
   "mimetype": "text/x-python",
   "name": "python",
   "nbconvert_exporter": "python",
   "pygments_lexer": "ipython3",
   "version": "3.6.13"
  }
 },
 "nbformat": 4,
 "nbformat_minor": 1
}
