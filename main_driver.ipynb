{
 "cells": [
  {
   "cell_type": "markdown",
   "metadata": {
    "colab_type": "text",
    "id": "view-in-github"
   },
   "source": [
    "<a href=\"https://colab.research.google.com/github/wei-enwang/space-ham/blob/main/main_driver.ipynb\" target=\"_parent\"><img src=\"https://colab.research.google.com/assets/colab-badge.svg\" alt=\"Open In Colab\"/></a>"
   ]
  },
  {
   "cell_type": "code",
   "execution_count": 1,
   "metadata": {
    "colab": {
     "base_uri": "https://localhost:8080/"
    },
    "id": "kjCdg-iXZDwP",
    "outputId": "4dd5b5da-3943-40f3-8e49-e387ba71352c"
   },
   "outputs": [
    {
     "name": "stderr",
     "output_type": "stream",
     "text": [
      "[nltk_data] Downloading package stopwords to\n",
      "[nltk_data]     /home/weinwang/nltk_data...\n",
      "[nltk_data]   Package stopwords is already up-to-date!\n"
     ]
    }
   ],
   "source": [
    "import numpy as np\n",
    "import nltk\n",
    "from nltk.corpus import words\n",
    "import torch\n",
    "import torch.nn as nn\n",
    "from torch.optim import Adam\n",
    "from torch.utils import data\n",
    "from preprocess import WholeData\n",
    "\n",
    "import models\n",
    "import utils"
   ]
  },
  {
   "cell_type": "code",
   "execution_count": 2,
   "metadata": {
    "colab": {
     "base_uri": "https://localhost:8080/"
    },
    "id": "vIrV_RW1ZPOx",
    "outputId": "2dbd80d2-f760-41fd-d29f-4c37f5746ece"
   },
   "outputs": [
    {
     "name": "stderr",
     "output_type": "stream",
     "text": [
      "[nltk_data] Downloading package words to /home/weinwang/nltk_data...\n",
      "[nltk_data]   Package words is already up-to-date!\n"
     ]
    }
   ],
   "source": [
    "nltk.download('words')\n",
    "\n",
    "device = \"cuda\" if torch.cuda.is_available() else \"cpu\"\n",
    "assert device == \"cuda\"   # use gpu whenever you can!\n",
    "\n",
    "seed = 32\n",
    "np.random.seed(seed)\n",
    "torch.manual_seed(seed)\n",
    "torch.cuda.manual_seed(seed)"
   ]
  },
  {
   "cell_type": "code",
   "execution_count": 16,
   "metadata": {
    "id": "GAV3D8KiZRjC"
   },
   "outputs": [],
   "source": [
    "# use one dataset for now\n",
    "train_data_dir = \"./data/enron1/\"\n",
    "test_data_dir = \"./data/enron2/\"\n",
    "output_dir = \"./output/\"\n",
    "\n",
    "# hyperparameters\n",
    "batch_size = 128\n",
    "dropout = 0.1\n",
    "learning_rate = 1e-4\n",
    "epochs = 50\n",
    "max_len = 100"
   ]
  },
  {
   "cell_type": "code",
   "execution_count": 6,
   "metadata": {
    "colab": {
     "base_uri": "https://localhost:8080/",
     "height": 381
    },
    "id": "Jx_x0qSRZUnN",
    "outputId": "58864b60-0aa3-4b73-8e79-8abaa7961c0f"
   },
   "outputs": [
    {
     "name": "stdout",
     "output_type": "stream",
     "text": [
      "Loading pretrained vectors...\n",
      "234378\n"
     ]
    },
    {
     "data": {
      "application/vnd.jupyter.widget-view+json": {
       "model_id": "22bc4e3913024822ba5cac19744d8317",
       "version_major": 2,
       "version_minor": 0
      },
      "text/plain": [
       "0it [00:00, ?it/s]"
      ]
     },
     "metadata": {},
     "output_type": "display_data"
    },
    {
     "name": "stdout",
     "output_type": "stream",
     "text": [
      "There are 75835 / 234379 pretrained vectors found.\n"
     ]
    }
   ],
   "source": [
    "vocab = set([str.lower() for str in words.words()])\n",
    "\n",
    "train_dataset = WholeData(train_data_dir, src_vocab=vocab, use_max_len=True, max_len=max_len)\n",
    "test_dataset = WholeData(test_data_dir, src_vocab=vocab, use_max_len=True, max_len=max_len)\n",
    "\n",
    "train_dataloader = data.DataLoader(train_dataset, batch_size=batch_size, shuffle=True, num_workers=8, pin_memory=True)\n",
    "test_dataloader = data.DataLoader(test_dataset, batch_size=batch_size, shuffle=False, num_workers=8, pin_memory=True)\n",
    "w2idx = train_dataset.src_v2id\n",
    "\n",
    "embed = utils.load_pretrained_vectors(w2idx, \"fastText/crawl-300d-2M.vec\")\n",
    "embed = torch.tensor(embed)"
   ]
  },
  {
   "cell_type": "code",
   "execution_count": 17,
   "metadata": {
    "id": "02Yh5OkQZYnB"
   },
   "outputs": [],
   "source": [
    "model = models.spam_lstm(pretrained_embedding=embed, dropout=dropout).to(device)\n",
    "loss_fn = nn.BCEWithLogitsLoss().to(device)\n",
    "opt = Adam(model.parameters(), lr=learning_rate)"
   ]
  },
  {
   "cell_type": "code",
   "execution_count": 18,
   "metadata": {
    "id": "MM1a0IiQZbb5"
   },
   "outputs": [
    {
     "name": "stderr",
     "output_type": "stream",
     "text": [
      "  2%|▏         | 1/50 [00:06<05:40,  6.95s/it]"
     ]
    },
    {
     "name": "stdout",
     "output_type": "stream",
     "text": [
      "Epoch 0\n",
      "-------------------------------\n",
      "Training loss: 0.633878, avg accuracy: 0.452650\n",
      "Testing loss: 0.558894, avg accuracy: 0.740659\n"
     ]
    },
    {
     "name": "stderr",
     "output_type": "stream",
     "text": [
      "\r",
      "  4%|▍         | 2/50 [00:13<05:33,  6.96s/it]"
     ]
    },
    {
     "name": "stdout",
     "output_type": "stream",
     "text": [
      "Epoch 1\n",
      "-------------------------------\n",
      "Training loss: 0.509961, avg accuracy: 0.735592\n",
      "Testing loss: 0.434996, avg accuracy: 0.869859\n"
     ]
    },
    {
     "name": "stderr",
     "output_type": "stream",
     "text": [
      "\r",
      "  6%|▌         | 3/50 [00:20<05:27,  6.96s/it]"
     ]
    },
    {
     "name": "stdout",
     "output_type": "stream",
     "text": [
      "Epoch 2\n",
      "-------------------------------\n",
      "Training loss: 0.386791, avg accuracy: 0.837206\n",
      "Testing loss: 0.383166, avg accuracy: 0.861866\n"
     ]
    },
    {
     "name": "stderr",
     "output_type": "stream",
     "text": [
      "\r",
      "  8%|▊         | 4/50 [00:27<05:19,  6.95s/it]"
     ]
    },
    {
     "name": "stdout",
     "output_type": "stream",
     "text": [
      "Epoch 3\n",
      "-------------------------------\n",
      "Training loss: 0.275276, avg accuracy: 0.924487\n",
      "Testing loss: 0.371503, avg accuracy: 0.843822\n"
     ]
    },
    {
     "name": "stderr",
     "output_type": "stream",
     "text": [
      "\r",
      " 10%|█         | 5/50 [00:34<05:12,  6.95s/it]"
     ]
    },
    {
     "name": "stdout",
     "output_type": "stream",
     "text": [
      "Epoch 4\n",
      "-------------------------------\n",
      "Training loss: 0.232632, avg accuracy: 0.913061\n",
      "Testing loss: 0.427238, avg accuracy: 0.776006\n"
     ]
    },
    {
     "name": "stderr",
     "output_type": "stream",
     "text": [
      "\r",
      " 12%|█▏        | 6/50 [00:41<05:05,  6.94s/it]"
     ]
    },
    {
     "name": "stdout",
     "output_type": "stream",
     "text": [
      "Epoch 5\n",
      "-------------------------------\n",
      "Training loss: 0.170497, avg accuracy: 0.942664\n",
      "Testing loss: 0.333799, avg accuracy: 0.866379\n"
     ]
    },
    {
     "name": "stderr",
     "output_type": "stream",
     "text": [
      "\r",
      " 14%|█▍        | 7/50 [00:48<04:58,  6.95s/it]"
     ]
    },
    {
     "name": "stdout",
     "output_type": "stream",
     "text": [
      "Epoch 6\n",
      "-------------------------------\n",
      "Training loss: 0.137685, avg accuracy: 0.956226\n",
      "Testing loss: 0.376940, avg accuracy: 0.840894\n"
     ]
    },
    {
     "name": "stderr",
     "output_type": "stream",
     "text": [
      "\r",
      " 16%|█▌        | 8/50 [00:55<04:52,  6.97s/it]"
     ]
    },
    {
     "name": "stdout",
     "output_type": "stream",
     "text": [
      "Epoch 7\n",
      "-------------------------------\n",
      "Training loss: 0.140557, avg accuracy: 0.956078\n",
      "Testing loss: 0.331605, avg accuracy: 0.881716\n"
     ]
    },
    {
     "name": "stderr",
     "output_type": "stream",
     "text": [
      "\r",
      " 18%|█▊        | 9/50 [01:02<04:45,  6.97s/it]"
     ]
    },
    {
     "name": "stdout",
     "output_type": "stream",
     "text": [
      "Epoch 8\n",
      "-------------------------------\n",
      "Training loss: 0.123537, avg accuracy: 0.963304\n",
      "Testing loss: 0.308741, avg accuracy: 0.885751\n"
     ]
    },
    {
     "name": "stderr",
     "output_type": "stream",
     "text": [
      "\r",
      " 20%|██        | 10/50 [01:09<04:38,  6.97s/it]"
     ]
    },
    {
     "name": "stdout",
     "output_type": "stream",
     "text": [
      "Epoch 9\n",
      "-------------------------------\n",
      "Training loss: 0.106555, avg accuracy: 0.968320\n",
      "Testing loss: 0.312233, avg accuracy: 0.886930\n"
     ]
    },
    {
     "name": "stderr",
     "output_type": "stream",
     "text": [
      "\r",
      " 22%|██▏       | 11/50 [01:16<04:31,  6.97s/it]"
     ]
    },
    {
     "name": "stdout",
     "output_type": "stream",
     "text": [
      "Epoch 10\n",
      "-------------------------------\n",
      "Training loss: 0.092703, avg accuracy: 0.974448\n",
      "Testing loss: 0.315509, avg accuracy: 0.882854\n"
     ]
    },
    {
     "name": "stderr",
     "output_type": "stream",
     "text": [
      "\r",
      " 24%|██▍       | 12/50 [01:23<04:24,  6.96s/it]"
     ]
    },
    {
     "name": "stdout",
     "output_type": "stream",
     "text": [
      "Epoch 11\n",
      "-------------------------------\n",
      "Training loss: 0.087518, avg accuracy: 0.976229\n",
      "Testing loss: 0.295477, avg accuracy: 0.899678\n"
     ]
    },
    {
     "name": "stderr",
     "output_type": "stream",
     "text": [
      "\r",
      " 26%|██▌       | 13/50 [01:30<04:17,  6.97s/it]"
     ]
    },
    {
     "name": "stdout",
     "output_type": "stream",
     "text": [
      "Epoch 12\n",
      "-------------------------------\n",
      "Training loss: 0.087078, avg accuracy: 0.976229\n",
      "Testing loss: 0.296954, avg accuracy: 0.906492\n"
     ]
    },
    {
     "name": "stderr",
     "output_type": "stream",
     "text": [
      "\r",
      " 28%|██▊       | 14/50 [01:37<04:11,  6.98s/it]"
     ]
    },
    {
     "name": "stdout",
     "output_type": "stream",
     "text": [
      "Epoch 13\n",
      "-------------------------------\n",
      "Training loss: 0.091315, avg accuracy: 0.974062\n",
      "Testing loss: 0.296472, avg accuracy: 0.894912\n"
     ]
    },
    {
     "name": "stderr",
     "output_type": "stream",
     "text": [
      "\r",
      " 30%|███       | 15/50 [01:44<04:04,  6.98s/it]"
     ]
    },
    {
     "name": "stdout",
     "output_type": "stream",
     "text": [
      "Epoch 14\n",
      "-------------------------------\n",
      "Training loss: 0.077391, avg accuracy: 0.980042\n",
      "Testing loss: 0.319162, avg accuracy: 0.900846\n"
     ]
    },
    {
     "name": "stderr",
     "output_type": "stream",
     "text": [
      "\r",
      " 32%|███▏      | 16/50 [01:51<03:57,  6.98s/it]"
     ]
    },
    {
     "name": "stdout",
     "output_type": "stream",
     "text": [
      "Epoch 15\n",
      "-------------------------------\n",
      "Training loss: 0.089514, avg accuracy: 0.974923\n",
      "Testing loss: 0.279909, avg accuracy: 0.890007\n"
     ]
    },
    {
     "name": "stderr",
     "output_type": "stream",
     "text": [
      "\r",
      " 34%|███▍      | 17/50 [01:58<03:50,  6.98s/it]"
     ]
    },
    {
     "name": "stdout",
     "output_type": "stream",
     "text": [
      "Epoch 16\n",
      "-------------------------------\n",
      "Training loss: 0.077222, avg accuracy: 0.979315\n",
      "Testing loss: 0.331679, avg accuracy: 0.902097\n"
     ]
    },
    {
     "name": "stderr",
     "output_type": "stream",
     "text": [
      "\r",
      " 36%|███▌      | 18/50 [02:05<03:43,  6.98s/it]"
     ]
    },
    {
     "name": "stdout",
     "output_type": "stream",
     "text": [
      "Epoch 17\n",
      "-------------------------------\n",
      "Training loss: 0.074251, avg accuracy: 0.979894\n",
      "Testing loss: 0.291884, avg accuracy: 0.905962\n"
     ]
    },
    {
     "name": "stderr",
     "output_type": "stream",
     "text": [
      "\r",
      " 38%|███▊      | 19/50 [02:12<03:36,  6.98s/it]"
     ]
    },
    {
     "name": "stdout",
     "output_type": "stream",
     "text": [
      "Epoch 18\n",
      "-------------------------------\n",
      "Training loss: 0.063493, avg accuracy: 0.983603\n",
      "Testing loss: 0.280455, avg accuracy: 0.912596\n"
     ]
    },
    {
     "name": "stderr",
     "output_type": "stream",
     "text": [
      "\r",
      " 40%|████      | 20/50 [02:19<03:29,  6.98s/it]"
     ]
    },
    {
     "name": "stdout",
     "output_type": "stream",
     "text": [
      "Epoch 19\n",
      "-------------------------------\n",
      "Training loss: 0.061366, avg accuracy: 0.985147\n",
      "Testing loss: 0.280864, avg accuracy: 0.904932\n"
     ]
    },
    {
     "name": "stderr",
     "output_type": "stream",
     "text": [
      "\r",
      " 42%|████▏     | 21/50 [02:26<03:22,  6.98s/it]"
     ]
    },
    {
     "name": "stdout",
     "output_type": "stream",
     "text": [
      "Epoch 20\n",
      "-------------------------------\n",
      "Training loss: 0.060041, avg accuracy: 0.985340\n",
      "Testing loss: 0.324888, avg accuracy: 0.889977\n"
     ]
    },
    {
     "name": "stderr",
     "output_type": "stream",
     "text": [
      "\r",
      " 44%|████▍     | 22/50 [02:33<03:15,  6.97s/it]"
     ]
    },
    {
     "name": "stdout",
     "output_type": "stream",
     "text": [
      "Epoch 21\n",
      "-------------------------------\n",
      "Training loss: 0.076225, avg accuracy: 0.979508\n",
      "Testing loss: 0.248202, avg accuracy: 0.914804\n"
     ]
    },
    {
     "name": "stderr",
     "output_type": "stream",
     "text": [
      "\r",
      " 46%|████▌     | 23/50 [02:40<03:08,  6.96s/it]"
     ]
    },
    {
     "name": "stdout",
     "output_type": "stream",
     "text": [
      "Epoch 22\n",
      "-------------------------------\n",
      "Training loss: 0.060468, avg accuracy: 0.985295\n",
      "Testing loss: 0.275745, avg accuracy: 0.913085\n"
     ]
    },
    {
     "name": "stderr",
     "output_type": "stream",
     "text": [
      "\r",
      " 48%|████▊     | 24/50 [02:47<03:01,  6.97s/it]"
     ]
    },
    {
     "name": "stdout",
     "output_type": "stream",
     "text": [
      "Epoch 23\n",
      "-------------------------------\n",
      "Training loss: 0.056527, avg accuracy: 0.985918\n",
      "Testing loss: 0.310220, avg accuracy: 0.899997\n"
     ]
    },
    {
     "name": "stderr",
     "output_type": "stream",
     "text": [
      "\r",
      " 50%|█████     | 25/50 [02:54<02:54,  6.98s/it]"
     ]
    },
    {
     "name": "stdout",
     "output_type": "stream",
     "text": [
      "Epoch 24\n",
      "-------------------------------\n",
      "Training loss: 0.059790, avg accuracy: 0.983796\n",
      "Testing loss: 0.278740, avg accuracy: 0.892365\n"
     ]
    },
    {
     "name": "stderr",
     "output_type": "stream",
     "text": [
      "\r",
      " 52%|█████▏    | 26/50 [03:01<02:47,  6.98s/it]"
     ]
    },
    {
     "name": "stdout",
     "output_type": "stream",
     "text": [
      "Epoch 25\n",
      "-------------------------------\n",
      "Training loss: 0.049365, avg accuracy: 0.987951\n",
      "Testing loss: 0.331267, avg accuracy: 0.899997\n"
     ]
    },
    {
     "name": "stderr",
     "output_type": "stream",
     "text": [
      "\r",
      " 54%|█████▍    | 27/50 [03:08<02:40,  6.98s/it]"
     ]
    },
    {
     "name": "stdout",
     "output_type": "stream",
     "text": [
      "Epoch 26\n",
      "-------------------------------\n",
      "Training loss: 0.046828, avg accuracy: 0.987847\n",
      "Testing loss: 0.302820, avg accuracy: 0.895581\n"
     ]
    },
    {
     "name": "stderr",
     "output_type": "stream",
     "text": [
      "\r",
      " 56%|█████▌    | 28/50 [03:15<02:33,  6.97s/it]"
     ]
    },
    {
     "name": "stdout",
     "output_type": "stream",
     "text": [
      "Epoch 27\n",
      "-------------------------------\n",
      "Training loss: 0.046733, avg accuracy: 0.987951\n",
      "Testing loss: 0.395056, avg accuracy: 0.867378\n"
     ]
    },
    {
     "name": "stderr",
     "output_type": "stream",
     "text": [
      "\r",
      " 58%|█████▊    | 29/50 [03:22<02:26,  6.97s/it]"
     ]
    },
    {
     "name": "stdout",
     "output_type": "stream",
     "text": [
      "Epoch 28\n",
      "-------------------------------\n",
      "Training loss: 0.036077, avg accuracy: 0.990889\n",
      "Testing loss: 0.312815, avg accuracy: 0.915802\n"
     ]
    },
    {
     "name": "stderr",
     "output_type": "stream",
     "text": [
      "\r",
      " 60%|██████    | 30/50 [03:29<02:19,  6.99s/it]"
     ]
    },
    {
     "name": "stdout",
     "output_type": "stream",
     "text": [
      "Epoch 29\n",
      "-------------------------------\n",
      "Training loss: 0.038926, avg accuracy: 0.990162\n",
      "Testing loss: 0.302422, avg accuracy: 0.919039\n"
     ]
    },
    {
     "name": "stderr",
     "output_type": "stream",
     "text": [
      "\r",
      " 62%|██████▏   | 31/50 [03:36<02:12,  6.99s/it]"
     ]
    },
    {
     "name": "stdout",
     "output_type": "stream",
     "text": [
      "Epoch 30\n",
      "-------------------------------\n",
      "Training loss: 0.033246, avg accuracy: 0.991512\n",
      "Testing loss: 0.291554, avg accuracy: 0.913764\n"
     ]
    },
    {
     "name": "stderr",
     "output_type": "stream",
     "text": [
      "\r",
      " 64%|██████▍   | 32/50 [03:43<02:05,  6.98s/it]"
     ]
    },
    {
     "name": "stdout",
     "output_type": "stream",
     "text": [
      "Epoch 31\n",
      "-------------------------------\n",
      "Training loss: 0.068271, avg accuracy: 0.982639\n",
      "Testing loss: 0.335283, avg accuracy: 0.910527\n"
     ]
    },
    {
     "name": "stderr",
     "output_type": "stream",
     "text": [
      "\r",
      " 66%|██████▌   | 33/50 [03:50<01:58,  6.98s/it]"
     ]
    },
    {
     "name": "stdout",
     "output_type": "stream",
     "text": [
      "Epoch 32\n",
      "-------------------------------\n",
      "Training loss: 0.092080, avg accuracy: 0.974062\n",
      "Testing loss: 0.433022, avg accuracy: 0.832052\n"
     ]
    },
    {
     "name": "stderr",
     "output_type": "stream",
     "text": [
      "\r",
      " 68%|██████▊   | 34/50 [03:57<01:51,  6.99s/it]"
     ]
    },
    {
     "name": "stdout",
     "output_type": "stream",
     "text": [
      "Epoch 33\n",
      "-------------------------------\n",
      "Training loss: 0.068833, avg accuracy: 0.981630\n",
      "Testing loss: 0.331635, avg accuracy: 0.900167\n"
     ]
    },
    {
     "name": "stderr",
     "output_type": "stream",
     "text": [
      "\r",
      " 70%|███████   | 35/50 [04:04<01:44,  6.99s/it]"
     ]
    },
    {
     "name": "stdout",
     "output_type": "stream",
     "text": [
      "Epoch 34\n",
      "-------------------------------\n",
      "Training loss: 0.037786, avg accuracy: 0.991127\n",
      "Testing loss: 0.356697, avg accuracy: 0.898468\n"
     ]
    },
    {
     "name": "stderr",
     "output_type": "stream",
     "text": [
      "\r",
      " 72%|███████▏  | 36/50 [04:11<01:37,  6.98s/it]"
     ]
    },
    {
     "name": "stdout",
     "output_type": "stream",
     "text": [
      "Epoch 35\n",
      "-------------------------------\n",
      "Training loss: 0.039579, avg accuracy: 0.990355\n",
      "Testing loss: 0.374121, avg accuracy: 0.887249\n"
     ]
    },
    {
     "name": "stderr",
     "output_type": "stream",
     "text": [
      "\r",
      " 74%|███████▍  | 37/50 [04:18<01:30,  6.98s/it]"
     ]
    },
    {
     "name": "stdout",
     "output_type": "stream",
     "text": [
      "Epoch 36\n",
      "-------------------------------\n",
      "Training loss: 0.034867, avg accuracy: 0.991809\n",
      "Testing loss: 0.432462, avg accuracy: 0.860584\n"
     ]
    },
    {
     "name": "stderr",
     "output_type": "stream",
     "text": [
      "\r",
      " 76%|███████▌  | 38/50 [04:25<01:23,  6.98s/it]"
     ]
    },
    {
     "name": "stdout",
     "output_type": "stream",
     "text": [
      "Epoch 37\n",
      "-------------------------------\n",
      "Training loss: 0.030195, avg accuracy: 0.993056\n",
      "Testing loss: 0.357589, avg accuracy: 0.899657\n"
     ]
    },
    {
     "name": "stderr",
     "output_type": "stream",
     "text": [
      "\r",
      " 78%|███████▊  | 39/50 [04:32<01:16,  6.99s/it]"
     ]
    },
    {
     "name": "stdout",
     "output_type": "stream",
     "text": [
      "Epoch 38\n",
      "-------------------------------\n",
      "Training loss: 0.025946, avg accuracy: 0.994020\n",
      "Testing loss: 0.343861, avg accuracy: 0.906281\n"
     ]
    },
    {
     "name": "stderr",
     "output_type": "stream",
     "text": [
      "\r",
      " 80%|████████  | 40/50 [04:39<01:09,  6.98s/it]"
     ]
    },
    {
     "name": "stdout",
     "output_type": "stream",
     "text": [
      "Epoch 39\n",
      "-------------------------------\n",
      "Training loss: 0.028963, avg accuracy: 0.992670\n",
      "Testing loss: 0.327478, avg accuracy: 0.909678\n"
     ]
    },
    {
     "name": "stderr",
     "output_type": "stream",
     "text": [
      "\r",
      " 82%|████████▏ | 41/50 [04:46<01:02,  6.99s/it]"
     ]
    },
    {
     "name": "stdout",
     "output_type": "stream",
     "text": [
      "Epoch 40\n",
      "-------------------------------\n",
      "Training loss: 0.022410, avg accuracy: 0.994599\n",
      "Testing loss: 0.411360, avg accuracy: 0.896760\n"
     ]
    },
    {
     "name": "stderr",
     "output_type": "stream",
     "text": [
      "\r",
      " 84%|████████▍ | 42/50 [04:52<00:55,  6.98s/it]"
     ]
    },
    {
     "name": "stdout",
     "output_type": "stream",
     "text": [
      "Epoch 41\n",
      "-------------------------------\n",
      "Training loss: 0.035101, avg accuracy: 0.989969\n",
      "Testing loss: 0.342451, avg accuracy: 0.895571\n"
     ]
    },
    {
     "name": "stderr",
     "output_type": "stream",
     "text": [
      "\r",
      " 86%|████████▌ | 43/50 [04:59<00:48,  6.98s/it]"
     ]
    },
    {
     "name": "stdout",
     "output_type": "stream",
     "text": [
      "Epoch 42\n",
      "-------------------------------\n",
      "Training loss: 0.020449, avg accuracy: 0.994599\n",
      "Testing loss: 0.361441, avg accuracy: 0.902364\n"
     ]
    },
    {
     "name": "stderr",
     "output_type": "stream",
     "text": [
      "\r",
      " 88%|████████▊ | 44/50 [05:06<00:41,  6.97s/it]"
     ]
    },
    {
     "name": "stdout",
     "output_type": "stream",
     "text": [
      "Epoch 43\n",
      "-------------------------------\n",
      "Training loss: 0.019412, avg accuracy: 0.994985\n",
      "Testing loss: 0.365747, avg accuracy: 0.913404\n"
     ]
    },
    {
     "name": "stderr",
     "output_type": "stream",
     "text": [
      "\r",
      " 90%|█████████ | 45/50 [05:13<00:34,  6.98s/it]"
     ]
    },
    {
     "name": "stdout",
     "output_type": "stream",
     "text": [
      "Epoch 44\n",
      "-------------------------------\n",
      "Training loss: 0.014785, avg accuracy: 0.995563\n",
      "Testing loss: 0.348755, avg accuracy: 0.922256\n"
     ]
    },
    {
     "name": "stderr",
     "output_type": "stream",
     "text": [
      "\r",
      " 92%|█████████▏| 46/50 [05:20<00:27,  6.97s/it]"
     ]
    },
    {
     "name": "stdout",
     "output_type": "stream",
     "text": [
      "Epoch 45\n",
      "-------------------------------\n",
      "Training loss: 0.025644, avg accuracy: 0.992670\n",
      "Testing loss: 0.376244, avg accuracy: 0.917480\n"
     ]
    },
    {
     "name": "stderr",
     "output_type": "stream",
     "text": [
      "\r",
      " 94%|█████████▍| 47/50 [05:27<00:20,  6.97s/it]"
     ]
    },
    {
     "name": "stdout",
     "output_type": "stream",
     "text": [
      "Epoch 46\n",
      "-------------------------------\n",
      "Training loss: 0.027791, avg accuracy: 0.990934\n",
      "Testing loss: 0.424720, avg accuracy: 0.888947\n"
     ]
    },
    {
     "name": "stderr",
     "output_type": "stream",
     "text": [
      "\r",
      " 96%|█████████▌| 48/50 [05:34<00:13,  6.98s/it]"
     ]
    },
    {
     "name": "stdout",
     "output_type": "stream",
     "text": [
      "Epoch 47\n",
      "-------------------------------\n",
      "Training loss: 0.019054, avg accuracy: 0.994213\n",
      "Testing loss: 0.439633, avg accuracy: 0.881315\n"
     ]
    },
    {
     "name": "stderr",
     "output_type": "stream",
     "text": [
      "\r",
      " 98%|█████████▊| 49/50 [05:41<00:06,  6.99s/it]"
     ]
    },
    {
     "name": "stdout",
     "output_type": "stream",
     "text": [
      "Epoch 48\n",
      "-------------------------------\n",
      "Training loss: 0.013527, avg accuracy: 0.994599\n",
      "Testing loss: 0.443532, avg accuracy: 0.900167\n"
     ]
    },
    {
     "name": "stderr",
     "output_type": "stream",
     "text": [
      "100%|██████████| 50/50 [05:48<00:00,  6.98s/it]"
     ]
    },
    {
     "name": "stdout",
     "output_type": "stream",
     "text": [
      "Epoch 49\n",
      "-------------------------------\n",
      "Training loss: 0.015332, avg accuracy: 0.994599\n",
      "Testing loss: 0.465228, avg accuracy: 0.889796\n"
     ]
    },
    {
     "name": "stderr",
     "output_type": "stream",
     "text": [
      "\n"
     ]
    },
    {
     "name": "stdout",
     "output_type": "stream",
     "text": [
      "Final testing loss: 0.465228, testing accuracy: 0.889796\n"
     ]
    },
    {
     "data": {
      "text/plain": [
       "(0.015332082062269803, 0.46522824093699455)"
      ]
     },
     "execution_count": 18,
     "metadata": {},
     "output_type": "execute_result"
    },
    {
     "data": {
      "image/png": "[encoded data removed]",
      "text/plain": [
       "<Figure size 432x288 with 1 Axes>"
      ]
     },
     "metadata": {},
     "output_type": "display_data"
    },
    {
     "data": {
      "image/png": "[encoded data removed]",
      "text/plain": [
       "<Figure size 432x288 with 1 Axes>"
      ]
     },
     "metadata": {},
     "output_type": "display_data"
    }
   ],
   "source": [
    "utils.train_full_test_once(train_dataloader, test_dataloader, model, loss_fn, opt, task_name=\"w2v+lstm100_batch128\", epochs=epochs, print_every=1, img_dir=output_dir)"
   ]
  },
  {
   "cell_type": "code",
   "execution_count": 19,
   "metadata": {
    "id": "MRKEnXMwZbj5"
   },
   "outputs": [],
   "source": [
    "torch.save(model.state_dict(), output_dir+\"w2v_lstmlen100_batch128.pt\")"
   ]
  },
  {
   "cell_type": "code",
   "execution_count": null,
   "metadata": {},
   "outputs": [],
   "source": []
  }
 ],
 "metadata": {
  "accelerator": "GPU",
  "colab": {
   "authorship_tag": "ABX9TyMSShHoZHgFnok0mGefVUMx",
   "include_colab_link": true,
   "name": "main_driver.ipynb",
   "provenance": []
  },
  "kernelspec": {
   "display_name": "Python 3",
   "language": "python",
   "name": "python3"
  },
  "language_info": {
   "codemirror_mode": {
    "name": "ipython",
    "version": 3
   },
   "file_extension": ".py",
   "mimetype": "text/x-python",
   "name": "python",
   "nbconvert_exporter": "python",
   "pygments_lexer": "ipython3",
   "version": "3.6.13"
  }
 },
 "nbformat": 4,
 "nbformat_minor": 1
}
